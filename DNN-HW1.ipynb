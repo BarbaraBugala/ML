{
 "cells": [
  {
   "cell_type": "markdown",
   "metadata": {
    "id": "8Q-lfeg_Paq_"
   },
   "source": [
    "# Task Overview\n",
    "\n",
    "Your task will be to implement a variant of *ProxyProp* (Proximal Backpropagation) – a modification of backpropagation in which the weights of the network are not updated according to gradient descent, but according to [proximal mapping operator](https://en.wikipedia.org/wiki/Proximal_operator). This proximal operator in many cases results in a descent that is quicker than in the case of traditional gradient descent. Interestingly enough, the proximal operator arose in the context of gradient descent in which the minimized function is not differentiable, and gradient descent cannot be applied directly as we cannot compute the Jacobi matrix. This method is called [proximal gradient method](https://en.wikipedia.org/wiki/Proximal_gradient_method). However, we are interested here in the efficiency of the approach rather than its robustness. The backpropagation method in the proximal approach (i.e. *ProxyProp* algorithm) is described in detail in [this paper](https://arxiv.org/pdf/1706.04638v3).\n",
    "\n",
    "The original algorithm presented in the paper uses purely linear transformations between subsequent network layers. Part of your task is to use affine transformations there, i.e. ones with biases.\n",
    "\n",
    "You should use an MLP architecture trained on the MNIST dataset. You should implement the network in numpy.\n",
    "\n",
    "Tasks:\n",
    "1. (9pt) Fill missing code below\n",
    "  - 1pt implement the `__init__` method\n",
    "  - 2pt implement the feedforward method\n",
    "  - 6pt implement the backpropagation\n",
    "2. Train the models (find proper hyperparameters). Visualize the learning speed of your best model compared with the standard backpropagation (plot training loss for subsequent numbers of epochs using both algorithms). Your model should reach at least 94% accuracy. Use ClearML to log your scores. Make a comparison of memory usage for _ProxProp_ network and the network you implemented in lab 3.\n",
    "  - 1pt for accuracy above 94%\n",
    "  - 1pt for initialization of the standard backpropagation and ProxyProp with the same random values\n",
    "  - 1pt for visualizations (we recommend downloading plots from clear ml)\n",
    "  - 2pt if [clear ml](https://clear.ml/docs/latest/docs/) used properly\n",
    "  - 1pt for comparing memory usage.\n",
    "\n",
    "Part of the assignment consists of deriving proper formulas for a proposed slight modification of _ProxProp_. We do not grant points separately for this activity. You are rewarded for that only after proper implementation.\n",
    "\n",
    "\n",
    "## Potential questions, clarifications\n",
    "- Q: Can I modify code of _ProxyProp_ outside #Your code goes here # to include logging?\n",
    "  - Yes, in ProxyProp.SGD\n",
    "- Q: Can I modify the code of _Network_ to include logging?\n",
    "  - Yes."
   ]
  },
  {
   "cell_type": "code",
   "execution_count": 9,
   "metadata": {
    "colab": {
     "base_uri": "https://localhost:8080/"
    },
    "id": "VlEo6ys75a3q",
    "outputId": "a6441323-5dda-452a-ccc5-3c529b2a119c"
   },
   "outputs": [
    {
     "name": "stdout",
     "output_type": "stream",
     "text": [
      "Requirement already satisfied: clearml in c:\\users\\hp\\programming\\dnn\\.venv\\lib\\site-packages (1.16.5)\n",
      "Requirement already satisfied: attrs>=18.0 in c:\\users\\hp\\programming\\dnn\\.venv\\lib\\site-packages (from clearml) (24.2.0)\n",
      "Requirement already satisfied: furl>=2.0.0 in c:\\users\\hp\\programming\\dnn\\.venv\\lib\\site-packages (from clearml) (2.1.3)\n",
      "Requirement already satisfied: jsonschema>=2.6.0 in c:\\users\\hp\\programming\\dnn\\.venv\\lib\\site-packages (from clearml) (4.23.0)\n",
      "Requirement already satisfied: numpy>=1.10 in c:\\users\\hp\\programming\\dnn\\.venv\\lib\\site-packages (from clearml) (2.1.3)\n",
      "Requirement already satisfied: pathlib2>=2.3.0 in c:\\users\\hp\\programming\\dnn\\.venv\\lib\\site-packages (from clearml) (2.3.7.post1)\n",
      "Requirement already satisfied: Pillow>=4.1.1 in c:\\users\\hp\\programming\\dnn\\.venv\\lib\\site-packages (from clearml) (11.0.0)\n",
      "Requirement already satisfied: psutil>=3.4.2 in c:\\users\\hp\\programming\\dnn\\.venv\\lib\\site-packages (from clearml) (6.1.0)\n",
      "Requirement already satisfied: pyparsing>=2.0.3 in c:\\users\\hp\\programming\\dnn\\.venv\\lib\\site-packages (from clearml) (3.2.0)\n",
      "Requirement already satisfied: python-dateutil>=2.6.1 in c:\\users\\hp\\programming\\dnn\\.venv\\lib\\site-packages (from clearml) (2.9.0.post0)\n",
      "Requirement already satisfied: PyYAML>=3.12 in c:\\users\\hp\\programming\\dnn\\.venv\\lib\\site-packages (from clearml) (6.0.2)\n",
      "Requirement already satisfied: requests>=2.20.0 in c:\\users\\hp\\programming\\dnn\\.venv\\lib\\site-packages (from clearml) (2.32.3)\n",
      "Requirement already satisfied: six>=1.16.0 in c:\\users\\hp\\programming\\dnn\\.venv\\lib\\site-packages (from clearml) (1.16.0)\n",
      "Requirement already satisfied: urllib3>=1.21.1 in c:\\users\\hp\\programming\\dnn\\.venv\\lib\\site-packages (from clearml) (2.2.3)\n",
      "Requirement already satisfied: pyjwt<2.9.0,>=2.4.0 in c:\\users\\hp\\programming\\dnn\\.venv\\lib\\site-packages (from clearml) (2.8.0)\n",
      "Requirement already satisfied: referencing<0.40 in c:\\users\\hp\\programming\\dnn\\.venv\\lib\\site-packages (from clearml) (0.35.1)\n",
      "Requirement already satisfied: orderedmultidict>=1.0.1 in c:\\users\\hp\\programming\\dnn\\.venv\\lib\\site-packages (from furl>=2.0.0->clearml) (1.0.1)\n",
      "Requirement already satisfied: jsonschema-specifications>=2023.03.6 in c:\\users\\hp\\programming\\dnn\\.venv\\lib\\site-packages (from jsonschema>=2.6.0->clearml) (2024.10.1)\n",
      "Requirement already satisfied: rpds-py>=0.7.1 in c:\\users\\hp\\programming\\dnn\\.venv\\lib\\site-packages (from jsonschema>=2.6.0->clearml) (0.18.1)\n",
      "Requirement already satisfied: charset-normalizer<4,>=2 in c:\\users\\hp\\programming\\dnn\\.venv\\lib\\site-packages (from requests>=2.20.0->clearml) (3.4.0)\n",
      "Requirement already satisfied: idna<4,>=2.5 in c:\\users\\hp\\programming\\dnn\\.venv\\lib\\site-packages (from requests>=2.20.0->clearml) (3.10)\n",
      "Requirement already satisfied: certifi>=2017.4.17 in c:\\users\\hp\\programming\\dnn\\.venv\\lib\\site-packages (from requests>=2.20.0->clearml) (2024.8.30)\n",
      "Note: you may need to restart the kernel to use updated packages.\n",
      "Requirement already satisfied: memory-profiler in c:\\users\\hp\\programming\\dnn\\.venv\\lib\\site-packages (0.61.0)Note: you may need to restart the kernel to use updated packages.\n",
      "\n",
      "Requirement already satisfied: psutil in c:\\users\\hp\\programming\\dnn\\.venv\\lib\\site-packages (from memory-profiler) (6.1.0)\n",
      "Requirement already satisfied: torchvision in c:\\users\\hp\\programming\\dnn\\.venv\\lib\\site-packages (0.20.1)\n",
      "Requirement already satisfied: numpy in c:\\users\\hp\\programming\\dnn\\.venv\\lib\\site-packages (from torchvision) (2.1.3)\n",
      "Requirement already satisfied: torch==2.5.1 in c:\\users\\hp\\programming\\dnn\\.venv\\lib\\site-packages (from torchvision) (2.5.1)\n",
      "Requirement already satisfied: pillow!=8.3.*,>=5.3.0 in c:\\users\\hp\\programming\\dnn\\.venv\\lib\\site-packages (from torchvision) (11.0.0)\n",
      "Requirement already satisfied: filelock in c:\\users\\hp\\programming\\dnn\\.venv\\lib\\site-packages (from torch==2.5.1->torchvision) (3.16.1)\n",
      "Requirement already satisfied: typing-extensions>=4.8.0 in c:\\users\\hp\\programming\\dnn\\.venv\\lib\\site-packages (from torch==2.5.1->torchvision) (4.12.2)\n",
      "Requirement already satisfied: networkx in c:\\users\\hp\\programming\\dnn\\.venv\\lib\\site-packages (from torch==2.5.1->torchvision) (3.4.2)\n",
      "Requirement already satisfied: jinja2 in c:\\users\\hp\\programming\\dnn\\.venv\\lib\\site-packages (from torch==2.5.1->torchvision) (3.1.4)\n",
      "Requirement already satisfied: fsspec in c:\\users\\hp\\programming\\dnn\\.venv\\lib\\site-packages (from torch==2.5.1->torchvision) (2024.10.0)\n",
      "Requirement already satisfied: setuptools in c:\\users\\hp\\programming\\dnn\\.venv\\lib\\site-packages (from torch==2.5.1->torchvision) (75.5.0)\n",
      "Requirement already satisfied: sympy==1.13.1 in c:\\users\\hp\\programming\\dnn\\.venv\\lib\\site-packages (from torch==2.5.1->torchvision) (1.13.1)\n",
      "Requirement already satisfied: mpmath<1.4,>=1.1.0 in c:\\users\\hp\\programming\\dnn\\.venv\\lib\\site-packages (from sympy==1.13.1->torch==2.5.1->torchvision) (1.3.0)\n",
      "Requirement already satisfied: MarkupSafe>=2.0 in c:\\users\\hp\\programming\\dnn\\.venv\\lib\\site-packages (from jinja2->torch==2.5.1->torchvision) (3.0.2)\n",
      "Note: you may need to restart the kernel to use updated packages.\n"
     ]
    }
   ],
   "source": [
    "%pip install clearml\n",
    "%pip install memory-profiler\n",
    "%pip install torchvision"
   ]
  },
  {
   "cell_type": "code",
   "execution_count": 10,
   "metadata": {
    "id": "KjlEoB4NPYmW"
   },
   "outputs": [],
   "source": [
    "import numpy as np\n",
    "from clearml import Logger\n",
    "from typing import List\n",
    "from numpy.linalg import inv\n"
   ]
  },
  {
   "cell_type": "code",
   "execution_count": 11,
   "metadata": {
    "id": "cysHBSEBB-Km"
   },
   "outputs": [],
   "source": [
    "# %load_ext memory_profiler\n",
    "from memory_profiler import memory_usage"
   ]
  },
  {
   "cell_type": "markdown",
   "metadata": {
    "id": "8-2rwUh8WZ4Q"
   },
   "source": [
    "# Dataset loading\n"
   ]
  },
  {
   "cell_type": "code",
   "execution_count": 12,
   "metadata": {
    "colab": {
     "base_uri": "https://localhost:8080/"
    },
    "id": "HGOTrXouW5r2",
    "outputId": "b4fc7ad1-89e0-439b-b7fd-c5ecb37db2f2"
   },
   "outputs": [
    {
     "name": "stderr",
     "output_type": "stream",
     "text": [
      "'wget' is not recognized as an internal or external command,\n",
      "operable program or batch file.\n"
     ]
    }
   ],
   "source": [
    "!wget -O mnist.npz https://s3.amazonaws.com/img-datasets/mnist.npz"
   ]
  },
  {
   "cell_type": "code",
   "execution_count": 13,
   "metadata": {
    "id": "9FPRU6hiWb9P"
   },
   "outputs": [],
   "source": [
    "def load_mnist(path: str = \"mnist.npz\"):\n",
    "    with np.load(path) as f:\n",
    "        x_train, _y_train = f[\"x_train\"], f[\"y_train\"]\n",
    "        x_test, _y_test = f[\"x_test\"], f[\"y_test\"]\n",
    "\n",
    "    x_train = x_train.reshape(-1, 28 * 28) / 255.0\n",
    "    x_test = x_test.reshape(-1, 28 * 28) / 255.0\n",
    "\n",
    "    y_train = np.zeros((_y_train.shape[0], 10))\n",
    "    y_train[np.arange(_y_train.shape[0]), _y_train] = 1\n",
    "\n",
    "    y_test = np.zeros((_y_test.shape[0], 10))\n",
    "    y_test[np.arange(_y_test.shape[0]), _y_test] = 1\n",
    "\n",
    "    return (x_train, y_train), (x_test, y_test)\n",
    "\n",
    "\n",
    "(x_train, y_train), (x_test, y_test) = load_mnist()"
   ]
  },
  {
   "cell_type": "markdown",
   "metadata": {
    "id": "_upvHByF5-p7"
   },
   "source": [
    "# Set up clear ml"
   ]
  },
  {
   "cell_type": "code",
   "execution_count": null,
   "metadata": {
    "id": "7Ju8QtLI6CgL"
   },
   "outputs": [],
   "source": [
    "### Your code goes here ###\n",
    "\n",
    "from clearml import Task\n",
    "\n",
    "web_server = 'https://app.clear.ml'\n",
    "api_server = 'https://api.clear.ml'\n",
    "files_server = 'https://files.clear.ml'\n",
    "# I believe i was supposed tp remove the keys so i did\n",
    "access_key = \"...\"\n",
    "secret_key = \"...\"\n",
    "\n",
    "Task.set_credentials(web_host=web_server,\n",
    "                     api_host=api_server,\n",
    "                     files_host=files_server,\n",
    "                     key=access_key,\n",
    "                     secret=secret_key)\n",
    "\n",
    "###########################"
   ]
  },
  {
   "cell_type": "markdown",
   "metadata": {
    "id": "5kL_Y0mlIx8u"
   },
   "source": [
    "# A quick recap of the backpropagation model\n",
    "\n",
    "## Forward pass\n",
    "\n",
    "We begin with $g^{(0)} = x$.\n",
    "\n",
    "To apply forward pass, use the following formulas L times:\n",
    "\n",
    "$$\n",
    "%\\begin{equation}\n",
    "f^{(l + 1)} = W^{(l+1)} g^{(l)} + b^{(l+1)}\n",
    "\\nonumber\n",
    "%\\end{equation}\n",
    "$$\n",
    "$$\n",
    "%\\begin{equation}\n",
    "g^{(l)} = \\sigma(f^{(l)})\n",
    "\\nonumber\n",
    "%\\end{equation}\n",
    "%\\\\\n",
    "$$\n",
    "\n",
    "$l = 1, 2, \\ldots, L$.\n",
    "\n",
    "\n",
    "Then, use output of the network is $g^{(L)}$ to compute the loss $L(y, g^{(L)})$.\n",
    "\n",
    "## Backward pass\n",
    "\n",
    "We begin with $\\frac{\\partial L}{\\partial g^{(L)}}$, which can be computed directly.\n",
    "\n",
    "To compute gradients, use the following formulas:\n",
    "\n",
    "$$\n",
    "%\\begin{equation}\n",
    "\\frac{\\partial L}{\\partial f^{(l)}} = \\frac{\\partial L}{\\partial g^{(l)}} \\odot g^{(l)} \\odot (1 - g^{(l)})\n",
    "\\nonumber\n",
    "%\\end{equation}\n",
    "$$\n",
    "$$\n",
    "%\\begin{equation}\n",
    "\\frac{\\partial L}{\\partial g^{(l)}} = (W^{(l+1)})^{T} \\cdot \\frac{\\partial L}{\\partial f^{(l+1)}}\n",
    "\\nonumber\n",
    "%\\end{equation}\n",
    "$$\n",
    "$$\n",
    "%\\begin{equation}\n",
    "\\frac{\\partial L}{\\partial b^{(l)}} = \\frac{\\partial L}{\\partial f^{(l)}}\n",
    "\\nonumber\n",
    "%\\end{equation}\n",
    "$$\n",
    "$$\n",
    "%\\begin{equation}\n",
    "\\frac{\\partial L}{\\partial W^{(l)}} = \\frac{\\partial L}{\\partial f^{(l)}} \\cdot g^{(l-1)}\n",
    "\\nonumber\n",
    "%\\end{equation}\n",
    "$$\n",
    "\n",
    "$l = L, L-1, \\ldots, 1$."
   ]
  },
  {
   "cell_type": "markdown",
   "metadata": {
    "id": "ejZmFBvkbDmk"
   },
   "source": [
    "# Network definition (as in laboratory 3)\n"
   ]
  },
  {
   "cell_type": "code",
   "execution_count": 15,
   "metadata": {
    "id": "OtEd26zDIx8u"
   },
   "outputs": [],
   "source": [
    "def sigmoid(z: np.ndarray) -> float:\n",
    "    return 1.0 / (1.0 + np.exp(-z))\n",
    "\n",
    "def sigmoid_prime(z: np.ndarray) -> float:\n",
    "    return sigmoid(z) * (1 - sigmoid(z))\n",
    "\n",
    "\n",
    "def logloss(\n",
    "    x: np.ndarray,\n",
    "    y: np.ndarray,\n",
    ") -> float:\n",
    "    return -(np.log(x) * y).sum() / y.shape[1]"
   ]
  },
  {
   "cell_type": "code",
   "execution_count": 16,
   "metadata": {
    "id": "erHufGRn-MXY"
   },
   "outputs": [],
   "source": [
    "class Network(object):\n",
    "    def __init__(\n",
    "        self,\n",
    "        sizes: List[int],\n",
    "    ) -> None:\n",
    "        # initialize biases and weights with random normal distr.\n",
    "        # weights are indexed by target node first\n",
    "        self.num_layers = len(sizes)\n",
    "        self.sizes = sizes\n",
    "        self.biases = [np.random.randn(y, 1) for y in sizes[1:]]\n",
    "        self.weights = [np.random.randn(y, x) for x, y in zip(sizes[:-1], sizes[1:])]\n",
    "\n",
    "    def feedforward(\n",
    "        self,\n",
    "        a: np.ndarray,\n",
    "    ) -> np.ndarray:\n",
    "        # Run the network on a batch\n",
    "        a = a.T\n",
    "        for b, w in zip(self.biases, self.weights):\n",
    "            a = sigmoid(np.matmul(w, a) + b)\n",
    "        return a\n",
    "\n",
    "    def update_mini_batch(\n",
    "        self,\n",
    "        mini_batch: tuple[np.ndarray, np.ndarray],\n",
    "        eta: float,\n",
    "    ):\n",
    "        # Update networks weights and biases by applying a single step\n",
    "        # of gradient descent using backpropagation to compute the gradient.\n",
    "        # The gradient is computed for a mini_batch which is as in tensorflow API.\n",
    "        # eta is the learning rate\n",
    "        nabla_b, nabla_w, loss = self.backprop(mini_batch[0].T, mini_batch[1].T)\n",
    "\n",
    "        self.weights = [\n",
    "            w - (eta / len(mini_batch[0])) * nw for w, nw in zip(self.weights, nabla_w)\n",
    "        ]\n",
    "        self.biases = [\n",
    "            b - (eta / len(mini_batch[0])) * nb for b, nb in zip(self.biases, nabla_b)\n",
    "        ]\n",
    "        return loss\n",
    "\n",
    "    def backprop(\n",
    "        self,\n",
    "        x: np.ndarray,\n",
    "        y: np.ndarray,\n",
    "    ) -> tuple[np.ndarray, np.ndarray, float]:\n",
    "        # For a single input (x,y) return a pair of lists.\n",
    "        # First contains gradients over biases, second over weights.\n",
    "        g = x\n",
    "        gs = [g]  # list to store all the gs, layer by layer\n",
    "        fs = []  # list to store all the fs, layer by layer\n",
    "        for b, w in zip(self.biases, self.weights):\n",
    "            f = np.dot(w, g) + b\n",
    "            fs.append(f)\n",
    "            g = sigmoid(f)\n",
    "            gs.append(g)\n",
    "        # backward pass <- both steps at once\n",
    "        loss = logloss(gs[-1], y)\n",
    "        dLdg = self.cost_derivative(gs[-1], y)\n",
    "        dLdfs = []\n",
    "        for w, g in reversed(list(zip(self.weights, gs[1:]))):\n",
    "            dLdf = np.multiply(dLdg, np.multiply(g, 1 - g))\n",
    "            dLdfs.append(dLdf)\n",
    "            dLdg = np.matmul(w.T, dLdf)\n",
    "\n",
    "        dLdWs = [np.matmul(dLdf, g.T) for dLdf, g in zip(reversed(dLdfs), gs[:-1])]\n",
    "        dLdBs = [\n",
    "            np.sum(dLdf, axis=1).reshape(dLdf.shape[0], 1) for dLdf in reversed(dLdfs)\n",
    "        ]\n",
    "        return (dLdBs, dLdWs, loss)\n",
    "\n",
    "    def evaluate(\n",
    "        self,\n",
    "        test_data: tuple[np.ndarray, np.ndarray],\n",
    "    ) -> float:\n",
    "        # Count the number of correct answers for test_data\n",
    "        pred = np.argmax(self.feedforward(test_data[0]), axis=0)\n",
    "        corr = np.argmax(test_data[1], axis=1).T\n",
    "        return np.mean(pred == corr)\n",
    "\n",
    "    def cost_derivative(\n",
    "        self,\n",
    "        output_activations: np.ndarray,\n",
    "        y: np.ndarray,\n",
    "    ) -> np.ndarray:\n",
    "        return output_activations - y\n",
    "\n",
    "    def SGD(\n",
    "        self,\n",
    "        training_data: np.ndarray,\n",
    "        epochs: int,\n",
    "        mini_batch_size: int,\n",
    "        eta: float,\n",
    "        test_data: np.ndarray = None,\n",
    "        logger: Logger = None,\n",
    "    ) -> None:\n",
    "        x_train, y_train = training_data\n",
    "        if test_data:\n",
    "            x_test, y_test = test_data\n",
    "        for j in range(epochs):\n",
    "            loss = 0\n",
    "            for i in range(x_train.shape[0] // mini_batch_size):\n",
    "                x_mini_batch = x_train[\n",
    "                    (mini_batch_size * i) : (mini_batch_size * (i + 1))\n",
    "                ]\n",
    "                y_mini_batch = y_train[\n",
    "                    (mini_batch_size * i) : (mini_batch_size * (i + 1))\n",
    "                ]\n",
    "                loss += self.update_mini_batch((x_mini_batch, y_mini_batch), eta)\n",
    "            wloss = loss / (x_train.shape[0] // mini_batch_size)\n",
    "            if test_data:\n",
    "                acc = self.evaluate((x_test, y_test))\n",
    "                print(\"Epoch: {0}, Accuracy: {1}, Loss: {2}\".format(j, acc, wloss))\n",
    "            else:\n",
    "                print(\"Epoch: {0}\".format(j))\n",
    "\n",
    "\n",
    "# # Simple check if all is fine\n",
    "# network = Network([784, 30, 30, 10])\n",
    "# network.SGD(\n",
    "#     (x_train, y_train),\n",
    "#     epochs=2,\n",
    "#     mini_batch_size=100,\n",
    "#     eta=3.0,\n",
    "#     test_data=(x_test, y_test),\n",
    "# )"
   ]
  },
  {
   "cell_type": "markdown",
   "metadata": {
    "id": "CKn5dbID-Fty"
   },
   "source": [
    "# The original ProxProp definition\n",
    "\n",
    "Let us fix the notation for our network as in the following figure. We can see here a series of layers with $n_0,\\ldots, n_{L-2}$ nodes. Each layer is composed of input nodes that depend linearly ($\\phi$ operator) on the output nodes that depend non-linearly on the respective input nodes ($\\sigma$ operator). The quality of the final output is measured by the final loss function ${\\cal L}_y$ (typically $\\frac{1}{2}\\|\\cdot\\|^2$).\n",
    "\n"
   ]
  },
  {
   "cell_type": "markdown",
   "metadata": {
    "id": "MipD_ribIx8u"
   },
   "source": [
    "\n",
    "![image.png]( data:image/png;base64,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)"
   ]
  },
  {
   "cell_type": "markdown",
   "metadata": {
    "id": "-9tyoEhbIx8v"
   },
   "source": [
    "_ProxProp_ procedure itself works similarly to a standard backpropagation procedure, as shown in the following figure."
   ]
  },
  {
   "cell_type": "markdown",
   "metadata": {
    "id": "6VHzG5peWfqF"
   },
   "source": [
    "\n",
    "![image.png]( data:image/png;base64,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)"
   ]
  },
  {
   "cell_type": "markdown",
   "metadata": {
    "id": "v2_aAtyjIx8v"
   },
   "source": [
    "For comparison, the standard backpropagation algorithm in this setting is as follows:"
   ]
  },
  {
   "cell_type": "markdown",
   "metadata": {
    "id": "0ym_cXjGIx8v"
   },
   "source": [
    "\n",
    "![image.png]( data:image/png;base64,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)"
   ]
  },
  {
   "cell_type": "markdown",
   "metadata": {
    "id": "N1pYbb4JIx8w"
   },
   "source": [
    "Forward: The forward propagation phase is just as in the standard algorithm:\n",
    "\n",
    "$z^k_l = \\phi(\\theta^k_l, a^k_{l−1}),$\n",
    "\n",
    "$a^k_l = \\sigma(z^k_l),$\n",
    "\n",
    "where $\\phi$ is supposed to be a linear transformation with weights $\\theta^k_l$ over values $a^k_{l-1}$ and $\\sigma$ is some non-linear step, e.g. the sigmoid function or the LeRU. You can use the sigmoid function for the purposes of this work.\n",
    "\n",
    "Reverse: In the backpropagation, the step for the final layer ((a) on the figure) is exactly as in the gradient based version. In steps for the earlier layers, we recompute the z's and a's using the gradient method ((b) on the figure), but the weights are computed according to the proximal operator ((c) on the figure).\n",
    "\n",
    "In step (a) the updated value is\n",
    "\n",
    "$a'^{k}_{L−2} = a^k_{L−2} − \\eta\\nabla_{a_{L−2}} {\\cal L}_y(\\phi(\\theta_{L−1}, a_{L−2})),$\n",
    "\n",
    "where $\\eta$ is the learning speed coefficient.\n",
    "\n",
    "In case (b) the updated values are\n",
    "\n",
    "$z'^{k}_l = z^k_l − \\sigma'(z^k_l)(\\sigma(z^k_l) − a'^k_l),$\n",
    "\n",
    "$a'^{k}_{l−1} = a^k_{l−1} − \\nabla( \\frac{1}{2}\\| \\phi(θ^l, \\cdot) − z'^k_l \\|^2)(a^k_{l−1}),$\n",
    "\n",
    "Note that the primed $a$-values are used to compute primed $z$-values and primed $z$-values are used to obtain the final value of $\\theta^{k+1}$.\n",
    "\n",
    "In case (c) the updated values are computed according to the proximal formula:\n",
    "\n",
    "$$\n",
    "\\theta^{k+1}_l = \\underset{\\gamma}{\\mathrm{argmin}} \\left(\\frac{1}{2} \\|\\phi(\\gamma, a^k_{l−1}) − z'^k_l\\|^2 + \\frac{1}{2\\tau_\\theta}\\|\\gamma - \\theta^k_l\\|^2\\right)\n",
    "$$\n",
    "\n",
    "The computation for the final layer is not done according to the proximity formula as it is difficult to obtain the closed formula for the necessary update, therefore it should be done according to the standard gradient descent.\n",
    "\n",
    "The original formulas from the mentioned above paper do not use the biases. Part of the assignment is to rework this method so that the formulas include biases. You should develop a method in which biases are updated using the standard gradient descent method and the linear weight are updated using the _PropProx_ method with formulas adjusted to accommodate for biases."
   ]
  },
  {
   "cell_type": "markdown",
   "metadata": {
    "id": "CdCyIY3qIx8w"
   },
   "source": [
    "# ProxProp similar to our backpropagation\n",
    "\n",
    "Your task is to implement algorithm based on [ProxProp](https://arxiv.org/pdf/1706.04638v3). Please refer to the section above or section 4.2 in [the paper](https://arxiv.org/pdf/1706.04638v3) for algorithm description. Here we present the overview of the algorithm to be implemented.\n",
    "\n",
    "## Forward pass\n",
    "\n",
    "Forward pass is the same as in backpropagation implementation used in this course:\n",
    "We begin with $g^{(0)} = x$.\n",
    "\n",
    "To apply forward pass, use the following formulas L times:\n",
    "\n",
    "$$\n",
    "%\\begin{equation}\n",
    "f^{(l + 1)} = W^{(l+1)} g^{(l)} + b^{(l+1)}\n",
    "\\nonumber\n",
    "%\\end{equation}\n",
    "$$\n",
    "$$\n",
    "%\\begin{equation}\n",
    "g^{(l)} = \\sigma(f^{(l)})\n",
    "\\nonumber\n",
    "%\\end{equation}\n",
    "%\\\\\n",
    "$$\n",
    "\n",
    "$l = 1, 2, \\ldots, L$.\n",
    "\n",
    "\n",
    "Then, use output of the network is $g^{(L)}$ to compute the loss $L(y, g^{(L)})$.\n",
    "\n",
    "## Backward pass\n",
    "\n",
    "We begin with $\\frac{\\partial L}{\\partial g^{(L)}}$, which can be computed directly.\n",
    "\n",
    "Gradients $\\frac{\\partial L}{\\partial f^{(l)}}$, $\\frac{\\partial L}{\\partial g^{(l)}}$ need to be computed.\n",
    "\n",
    "$$\n",
    "%\\begin{equation}\n",
    "\\frac{\\partial L}{\\partial f^{(l)}} = \\frac{\\partial L}{\\partial g^{(l)}} \\odot g^{(l)} \\odot (1 - g^{(l)})\n",
    "\\nonumber\n",
    "%\\end{equation}\n",
    "$$\n",
    "$$\n",
    "%\\begin{equation}\n",
    "\\frac{\\partial L}{\\partial g^{(l)}} = (W^{(l+1)})^{T} \\cdot \\frac{\\partial L}{\\partial f^{(l+1)}}\n",
    "\\nonumber\n",
    "%\\end{equation}\n",
    "$$\n",
    "\n",
    "For simplicity, biases will be updated as in standard backpropagation:\n",
    "$$\n",
    "%\\begin{equation}\n",
    "b^{(l)} = b^{(l)} - \\eta \\frac{\\partial L}{\\partial b^{(l)}}\n",
    "\\nonumber\n",
    "%\\end{equation}\n",
    "$$\n",
    "Remember to make the gradient update independent from the batch size by appropriate averaging!\n",
    "\n",
    "Weights will be updated using values $f^{(l)}_{*}, g^{(l)}_{*}$. They are defined as follows:\n",
    "\n",
    "$$\n",
    "%\\begin{equation}\n",
    "g^{(L)}_{*} = g^{(L)} - \\eta \\frac{\\partial L}{\\partial g^{(L)}}\n",
    "%\\end{equation}\n",
    "$$\n",
    "\n",
    "$$\n",
    "%\\begin{equation}\n",
    "f^{(l)}_{*} = f^{(l)} - \\frac{\\partial g^{(l)}}{\\partial f^{(l)}} \\cdot (g^{(l)} - g^{(l)}_{*})\n",
    "%\\end{equation}\n",
    "$$\n",
    "\n",
    "$l = 1, 2, \\ldots, L$.\n",
    "\n",
    "$$\n",
    "%\\begin{equation}\n",
    "g^{(l)}_{*} = g^{(l)} - \\frac{\\partial f^{(l+1)}}{\\partial g^{(l)}} \\cdot (f^{(l+1)} - f^{(l+1)}_{*})\n",
    "%\\end{equation}\n",
    "$$\n",
    "\n",
    "$l = 1, 2, \\ldots, L - 1$.\n",
    "\n",
    " The update of weights is defined as:\n",
    "\n",
    "$$\n",
    "%\\begin{equation}\n",
    "W^{(l)} = \\text{arg min}_{W} \\frac{1}{2} || W \\cdot g^{(l-1)} + b^{(l)} - f^{(l)}_{*} ||^2 + \\frac{1}{2\\eta} || W - W^{(l)} ||^2\n",
    "%\\end{equation}\n",
    "$$\n",
    "\n",
    "$l = 1, 2, \\ldots, L$.\n",
    "\n",
    "Remarks:\n",
    "* Weights are updated last (This means updated $b^{(l)}$ is used in the formula above).\n",
    "* Please use closed form of the update assuming $W$ is a matrix. It might involve inverting some matrix. While it is not desirable in practice, the aim of this homework is to make you come up with the formula for the update :)\n",
    "* Note that the original algorithm used two eta values. For the homework you should assume that these are equal and use for that only one parameter of the network."
   ]
  },
  {
   "cell_type": "code",
   "execution_count": null,
   "metadata": {
    "colab": {
     "base_uri": "https://localhost:8080/",
     "height": 373
    },
    "id": "QDZIWGNKWjZh",
    "outputId": "10204a7b-6384-43ef-9300-79f45a952ebb"
   },
   "outputs": [
    {
     "name": "stdout",
     "output_type": "stream",
     "text": [
      "Epoch: 0, Accuracy: 0.1184, Loss: 14.69231132093072\n",
      "Epoch: 1, Accuracy: 0.8652, Loss: 0.7695796739659118\n",
      "Epoch: 2, Accuracy: 0.9023, Loss: 0.426985892911795\n",
      "Epoch: 3, Accuracy: 0.9145, Loss: 0.3453804088906372\n"
     ]
    }
   ],
   "source": [
    "class ProxProp(object):\n",
    "    def __init__(\n",
    "        self,\n",
    "        sizes: List[int],\n",
    "        weights: np.ndarray = None,\n",
    "        biases: np.ndarray = None,\n",
    "    ) -> None:\n",
    "        # initialize biases and weights with random normal distr.\n",
    "        # weights are indexed by target node first\n",
    "        # IMPORTANT: use at least one layer of size a -> a\n",
    "        ### Your code goes here ###\n",
    "        self.num_layers = len(sizes)\n",
    "        self.sizes = sizes\n",
    "        self.biases = biases or [np.random.randn(y, 1) for y in sizes[1:]]\n",
    "        self.weights = weights or [np.random.randn(y, x) for x, y in zip(sizes[:-1], sizes[1:])]\n",
    "        ###########################\n",
    "\n",
    "    def feedforward(\n",
    "        self,\n",
    "        a: np.ndarray,\n",
    "    ) -> np.ndarray:\n",
    "        # Run the network\n",
    "        ### Your code goes here ###\n",
    "        a = a.T\n",
    "        for b, w in zip(self.biases, self.weights):\n",
    "            a = sigmoid(np.matmul(w, a) + b)\n",
    "        return a\n",
    "        ###########################\n",
    "\n",
    "    def backprop(self, x: np.ndarray, y: np.ndarray, eta: float) -> float:\n",
    "        ### Your code goes here ###\n",
    "        g = x\n",
    "        minibatch_size = x.shape[1]\n",
    "        gs = [g]  # list to store all the gs, layer by layer\n",
    "        fs = []  # list to store all the fs, layer by layer\n",
    "        for b, w in zip(self.biases, self.weights):\n",
    "            f = np.dot(w, g) + b\n",
    "            fs.append(f)\n",
    "            g = sigmoid(f)\n",
    "            gs.append(g)\n",
    "\n",
    "        # loss computed in last layer\n",
    "        loss = logloss(gs[-1], y)\n",
    "\n",
    "        # derivative of Loss over last layer\n",
    "        dLdg = self.cost_derivative(gs[-1], y)\n",
    "\n",
    "        dLdfs = []\n",
    "\n",
    "        # first g*\n",
    "        g_star = gs[-1] - eta * dLdg\n",
    "\n",
    "        # derivatives of Loss over f and g computed using chain rule\n",
    "        for w, g in reversed(list(zip(self.weights, gs[1:]))):\n",
    "            dLdf = np.multiply(dLdg, np.multiply(g, 1 - g))\n",
    "            dLdfs.append(dLdf)\n",
    "            dLdg = np.matmul(w.T, dLdf)\n",
    "\n",
    "        # derivative of Loss over biases\n",
    "        dLdBs = [np.sum(dLdf, axis=1).reshape(dLdf.shape[0], 1) for dLdf in reversed(dLdfs)]\n",
    "\n",
    "        # updating biases\n",
    "        self.biases = [b - (eta / minibatch_size) * nb for b, nb in zip(self.biases, dLdBs)]\n",
    "\n",
    "        # proxprop algorithm\n",
    "        for i in range(1, self.num_layers):\n",
    "            f_star = fs[-i] - sigmoid_prime(fs[-i]) * (gs[-i] - g_star)\n",
    "            g_star = gs[-i-1] - np.matmul(self.weights[-i].T, fs[-i] - f_star)\n",
    "            matrix = inv(np.dot(gs[-i-1], gs[-i-1].T) + (1 / eta) * np.identity(gs[-i-1].shape[0]))\n",
    "            # adding biases to algorithm from ProxProp paper\n",
    "            self.weights[-i] = (np.dot(f_star, gs[-i-1].T) - np.dot(np.tile(self.biases[-i], minibatch_size), gs[-i-1].T) + (1 / eta) * self.weights[-i]) @ matrix\n",
    "            # it could be also done without np.tile: self.weights[-i] = (np.dot((f_star -self.biases[-i]), gs[-i-1].T) + (1 / eta) * self.weights[-i]) @ matrix\n",
    "\n",
    "        return loss\n",
    "        ###########################\n",
    "\n",
    "    def evaluate(\n",
    "        self,\n",
    "        test_data: tuple[np.ndarray, np.ndarray],\n",
    "    ) -> float:\n",
    "        pred = np.argmax(self.feedforward(test_data[0]), axis=0)\n",
    "        corr = np.argmax(test_data[1], axis=1).T\n",
    "        return np.mean(pred == corr)\n",
    "\n",
    "    def cost_derivative(\n",
    "        self,\n",
    "        output_activations: np.ndarray,\n",
    "        y: np.ndarray,\n",
    "    ) -> np.ndarray:\n",
    "        return output_activations - y\n",
    "\n",
    "\n",
    "    def SGD(\n",
    "        self,\n",
    "        training_data: np.ndarray,\n",
    "        epochs: int,\n",
    "        mini_batch_size: int,\n",
    "        eta: float,\n",
    "        test_data: np.ndarray = None,\n",
    "        logger: Logger = None,\n",
    "    ) -> None:\n",
    "        x_train, y_train = training_data\n",
    "        if test_data:\n",
    "            x_test, y_test = test_data\n",
    "        wloss = logloss(self.feedforward(x_train).T, y_train) / (\n",
    "            x_train.shape[0] // mini_batch_size\n",
    "        )\n",
    "        for j in range(epochs + 1):\n",
    "            if logger is not None:\n",
    "                logger.report_scalar(\n",
    "                    title=\"Loss\", series=\"ProxyProp Loss\", iteration=j, value=wloss\n",
    "                )\n",
    "            if test_data:\n",
    "                acc = self.evaluate((x_test, y_test))\n",
    "                if logger is not None:\n",
    "                    logger.report_scalar(\n",
    "                        title=\"Accuracy\",\n",
    "                        series=\"ProxyProp Accuracy\",\n",
    "                        iteration=j,\n",
    "                        value=acc,\n",
    "                    )\n",
    "                print(\"Epoch: {0}, Accuracy: {1}, Loss: {2}\".format(j, acc, wloss))\n",
    "            else:\n",
    "                print(\"Epoch: {0}\".format(j))\n",
    "            if j == epochs:\n",
    "                break\n",
    "            loss = 0\n",
    "            for i in range(x_train.shape[0] // mini_batch_size):\n",
    "                x_mini_batch = x_train[\n",
    "                    (mini_batch_size * i) : (mini_batch_size * (i + 1))\n",
    "                ]\n",
    "                y_mini_batch = y_train[\n",
    "                    (mini_batch_size * i) : (mini_batch_size * (i + 1))\n",
    "                ]\n",
    "                loss += self.backprop(x_mini_batch.T, y_mini_batch.T, eta)\n",
    "            wloss = loss / (\n",
    "                x_train.shape[0] // mini_batch_size\n",
    "            )  # we compute the average of the losses over the number of minibatches\n",
    "\n",
    "\n",
    "# Simple check if all is fine\n",
    "network = ProxProp([784, 30, 30, 10])\n",
    "network.SGD(\n",
    "    (x_train, y_train),\n",
    "    epochs=3,\n",
    "    mini_batch_size=100,\n",
    "    eta=3.0,\n",
    "    test_data=(x_test, y_test),\n",
    ")"
   ]
  },
  {
   "cell_type": "markdown",
   "metadata": {
    "id": "_am34GLZ4Oga"
   },
   "source": [
    "# Train the network"
   ]
  },
  {
   "cell_type": "markdown",
   "metadata": {
    "id": "cP9DqoMBDTkS"
   },
   "source": [
    "Selecting random integers that will be the seed of np.random.seed for ProxProp and BackProp, so both of the networks have the same initialization values. I'm choosing 7 of them because I will train those networks for seven different eta parameters:\n",
    "\n",
    "η ∈ \\[$10^{-3}$, $10^{-2}$, $10^{-1}$, 1, $10^{1}$, $10^{2}$, $10^{3}$]\n",
    "\n",
    "Architecture: [784, 100, 100, 10]"
   ]
  },
  {
   "cell_type": "code",
   "execution_count": 18,
   "metadata": {
    "id": "HPUFf087862C"
   },
   "outputs": [],
   "source": [
    "arr = np.random.randint(100, size = 7)\n",
    "\n",
    "layers = [784, 100, 100, 10]"
   ]
  },
  {
   "cell_type": "markdown",
   "metadata": {
    "id": "3Jr_jcc_DuFd"
   },
   "source": [
    "Check if initial weights and biases have the same values for both networks"
   ]
  },
  {
   "cell_type": "code",
   "execution_count": 19,
   "metadata": {
    "id": "J3AdGCIzD-nc"
   },
   "outputs": [
    {
     "name": "stdout",
     "output_type": "stream",
     "text": [
      "True\n",
      "True\n"
     ]
    }
   ],
   "source": [
    "np.random.seed(arr[0])\n",
    "networkP = ProxProp(layers)\n",
    "\n",
    "np.random.seed(arr[0])\n",
    "networkB = Network(layers)\n",
    "\n",
    "print(np.array_equal(networkP.weights[0],networkB.weights[0]))\n",
    "print(np.array_equal(networkP.biases[0],networkB.biases[0]))"
   ]
  },
  {
   "cell_type": "markdown",
   "metadata": {
    "id": "S0mWoaBCE9q9"
   },
   "source": [
    "How the weights look like"
   ]
  },
  {
   "cell_type": "code",
   "execution_count": 20,
   "metadata": {
    "id": "_kKv_NIkE9K4"
   },
   "outputs": [
    {
     "data": {
      "text/plain": [
       "array([[-0.03073927, -1.75488786,  0.98833441, ...,  0.72043739,\n",
       "         0.74281639,  0.05613428],\n",
       "       [-0.6269764 ,  0.67351757,  1.48743958, ...,  1.13059422,\n",
       "        -1.50531524,  1.84707435],\n",
       "       [ 0.46856   ,  0.21676679, -0.01372757, ..., -0.05810323,\n",
       "        -1.08078503, -0.47810029],\n",
       "       ...,\n",
       "       [-0.89888321,  1.89072073, -1.41518459, ..., -1.0466952 ,\n",
       "         0.81861225,  0.45706046],\n",
       "       [ 1.26805379,  0.21271787, -1.17662309, ..., -1.7687522 ,\n",
       "         0.43253425,  0.35234957],\n",
       "       [-0.91713176, -0.87885242,  0.38842019, ...,  1.51481592,\n",
       "         1.43177534,  0.08521495]])"
      ]
     },
     "execution_count": 20,
     "metadata": {},
     "output_type": "execute_result"
    }
   ],
   "source": [
    "networkP.weights[0]"
   ]
  },
  {
   "cell_type": "markdown",
   "metadata": {
    "id": "FD2QLlMHLa15"
   },
   "source": [
    "Variables that will be later used to compare memory usage for ProxProp and BackProp"
   ]
  },
  {
   "cell_type": "code",
   "execution_count": 21,
   "metadata": {
    "id": "mfyFkAF3LbVQ"
   },
   "outputs": [],
   "source": [
    "memP_usage = []\n",
    "memB_usage = []"
   ]
  },
  {
   "cell_type": "markdown",
   "metadata": {
    "id": "aYGwH6tzFJO9"
   },
   "source": [
    "Training ProxProp:"
   ]
  },
  {
   "cell_type": "markdown",
   "metadata": {},
   "source": [
    "In the beginning it looks like the ProxProp isn't learning but it's because I've chosen some extreme values for eta to see how it behaves. It reaches good accuracy for eta = 10."
   ]
  },
  {
   "cell_type": "code",
   "execution_count": 22,
   "metadata": {
    "collapsed": true,
    "id": "isRNV1aX56K8"
   },
   "outputs": [
    {
     "name": "stdout",
     "output_type": "stream",
     "text": [
      "Epoch: 0, Accuracy: 0.0826, Loss: 34.136236302660144\n",
      "Epoch: 1, Accuracy: 0.0827, Loss: 3.4168474459341724\n",
      "Epoch: 2, Accuracy: 0.0828, Loss: 3.4233612697335176\n",
      "Epoch: 3, Accuracy: 0.0829, Loss: 3.4299342244550393\n",
      "Epoch: 4, Accuracy: 0.0832, Loss: 3.4365669047565666\n",
      "Epoch: 5, Accuracy: 0.0833, Loss: 3.443259905744749\n",
      "Epoch: 6, Accuracy: 0.0832, Loss: 3.450013820350701\n",
      "Epoch: 7, Accuracy: 0.0833, Loss: 3.456829236484141\n",
      "Epoch: 8, Accuracy: 0.0833, Loss: 3.4637067339704792\n",
      "Epoch: 9, Accuracy: 0.0835, Loss: 3.470646881278792\n",
      "Epoch: 10, Accuracy: 0.0835, Loss: 3.477650232050383\n",
      "Epoch: 0, Accuracy: 0.0781, Loss: 26.791233908303216\n",
      "Epoch: 1, Accuracy: 0.0786, Loss: 2.689589587453503\n",
      "Epoch: 2, Accuracy: 0.0793, Loss: 2.7097060301107048\n",
      "Epoch: 3, Accuracy: 0.0791, Loss: 2.728245745467241\n",
      "Epoch: 4, Accuracy: 0.0793, Loss: 2.744995056780587\n",
      "Epoch: 5, Accuracy: 0.0791, Loss: 2.759752290441481\n",
      "Epoch: 6, Accuracy: 0.0788, Loss: 2.7723577762672362\n",
      "Epoch: 7, Accuracy: 0.0781, Loss: 2.7827105795068188\n",
      "Epoch: 8, Accuracy: 0.0777, Loss: 2.7907741682445106\n",
      "Epoch: 9, Accuracy: 0.0782, Loss: 2.7965744150293754\n",
      "Epoch: 10, Accuracy: 0.0778, Loss: 2.800191732800305\n",
      "Epoch: 0, Accuracy: 0.08, Loss: 17.764129833337545\n",
      "Epoch: 1, Accuracy: 0.0889, Loss: 1.8507871976981023\n",
      "Epoch: 2, Accuracy: 0.0904, Loss: 1.7895336889836662\n",
      "Epoch: 3, Accuracy: 0.0905, Loss: 1.6319310147663315\n",
      "Epoch: 4, Accuracy: 0.0914, Loss: 1.4787793009245955\n",
      "Epoch: 5, Accuracy: 0.0938, Loss: 1.3377352363552082\n",
      "Epoch: 6, Accuracy: 0.098, Loss: 1.2089647839300552\n",
      "Epoch: 7, Accuracy: 0.1078, Loss: 1.0782403986080926\n",
      "Epoch: 8, Accuracy: 0.1371, Loss: 0.9471108076421081\n",
      "Epoch: 9, Accuracy: 0.1875, Loss: 0.8423216974301044\n",
      "Epoch: 10, Accuracy: 0.2905, Loss: 0.7855079335773318\n",
      "Epoch: 0, Accuracy: 0.1021, Loss: 34.573759751097086\n",
      "Epoch: 1, Accuracy: 0.1766, Loss: 2.4204283106523685\n",
      "Epoch: 2, Accuracy: 0.7825, Loss: 1.5404918207355518\n",
      "Epoch: 3, Accuracy: 0.8085, Loss: 1.383654789617861\n",
      "Epoch: 4, Accuracy: 0.822, Loss: 1.2523946531619912\n",
      "Epoch: 5, Accuracy: 0.8725, Loss: 0.9435258892904077\n",
      "Epoch: 6, Accuracy: 0.9064, Loss: 0.4497773095495423\n",
      "Epoch: 7, Accuracy: 0.9126, Loss: 0.3629741754358978\n",
      "Epoch: 8, Accuracy: 0.9177, Loss: 0.32899654590493344\n",
      "Epoch: 9, Accuracy: 0.921, Loss: 0.30433863387402604\n",
      "Epoch: 10, Accuracy: 0.9237, Loss: 0.285046689531171\n",
      "Epoch: 0, Accuracy: 0.0974, Loss: 42.338377208283504\n",
      "Epoch: 1, Accuracy: 0.1449, Loss: 3.156933615312673\n",
      "Epoch: 2, Accuracy: 0.8301, Loss: 2.3861023391701006\n",
      "Epoch: 3, Accuracy: 0.8383, Loss: 2.340388365766874\n",
      "Epoch: 4, Accuracy: 0.8412, Loss: 2.266782232098025\n",
      "Epoch: 5, Accuracy: 0.8429, Loss: 2.248256004376043\n",
      "Epoch: 6, Accuracy: 0.8485, Loss: 2.217180089208197\n",
      "Epoch: 7, Accuracy: 0.8484, Loss: 2.1815632374550296\n",
      "Epoch: 8, Accuracy: 0.8518, Loss: 2.1598714203752625\n",
      "Epoch: 9, Accuracy: 0.8517, Loss: 2.1429973623252097\n",
      "Epoch: 10, Accuracy: 0.8562, Loss: 2.1447085711275675\n",
      "Epoch: 0, Accuracy: 0.1236, Loss: 15.147183731022919\n"
     ]
    },
    {
     "name": "stderr",
     "output_type": "stream",
     "text": [
      "C:\\Users\\HP\\AppData\\Local\\Temp\\ipykernel_9616\\1540929663.py:2: RuntimeWarning:\n",
      "\n",
      "overflow encountered in exp\n",
      "\n",
      "C:\\Users\\HP\\AppData\\Local\\Temp\\ipykernel_9616\\1540929663.py:12: RuntimeWarning:\n",
      "\n",
      "divide by zero encountered in log\n",
      "\n",
      "C:\\Users\\HP\\AppData\\Local\\Temp\\ipykernel_9616\\1540929663.py:12: RuntimeWarning:\n",
      "\n",
      "invalid value encountered in multiply\n",
      "\n"
     ]
    },
    {
     "name": "stdout",
     "output_type": "stream",
     "text": [
      "Epoch: 1, Accuracy: 0.1035, Loss: nan\n",
      "Epoch: 2, Accuracy: 0.1198, Loss: nan\n",
      "Epoch: 3, Accuracy: 0.1572, Loss: nan\n",
      "Epoch: 4, Accuracy: 0.1584, Loss: nan\n",
      "Epoch: 5, Accuracy: 0.1758, Loss: nan\n",
      "Epoch: 6, Accuracy: 0.1894, Loss: nan\n",
      "Epoch: 7, Accuracy: 0.1888, Loss: nan\n",
      "Epoch: 8, Accuracy: 0.2206, Loss: nan\n",
      "Epoch: 9, Accuracy: 0.2166, Loss: nan\n",
      "Epoch: 10, Accuracy: 0.226, Loss: nan\n",
      "Epoch: 0, Accuracy: 0.1158, Loss: 36.056065286551885\n",
      "Epoch: 1, Accuracy: 0.1186, Loss: nan\n",
      "Epoch: 2, Accuracy: 0.1131, Loss: nan\n",
      "Epoch: 3, Accuracy: 0.0975, Loss: nan\n",
      "Epoch: 4, Accuracy: 0.1046, Loss: nan\n",
      "Epoch: 5, Accuracy: 0.1025, Loss: nan\n",
      "Epoch: 6, Accuracy: 0.1006, Loss: nan\n",
      "Epoch: 7, Accuracy: 0.101, Loss: nan\n",
      "Epoch: 8, Accuracy: 0.1122, Loss: nan\n",
      "Epoch: 9, Accuracy: 0.1068, Loss: nan\n",
      "Epoch: 10, Accuracy: 0.1111, Loss: nan\n"
     ]
    }
   ],
   "source": [
    "### Your code goes here ###\n",
    "for i in range(0,7):\n",
    "    task = Task.create(project_name='DNN homework 1 - ProxProp', task_name=f'ProxProp {i}')\n",
    "    task.mark_started()\n",
    "    logger = task.get_logger()\n",
    "\n",
    "    np.random.seed(arr[i])\n",
    "    network = ProxProp(layers)\n",
    "    network.SGD(\n",
    "        (x_train, y_train),\n",
    "        epochs=10,\n",
    "        mini_batch_size=100,\n",
    "        eta=10**(i-3),\n",
    "        test_data=(x_test, y_test),\n",
    "        logger=logger\n",
    "    )\n",
    "    memP_usage.append(memory_usage(-1))\n",
    "\n",
    "\n",
    "    task.mark_completed()\n",
    "    task.close()\n",
    "###########################"
   ]
  },
  {
   "cell_type": "markdown",
   "metadata": {
    "id": "-vEUdmDnIajz"
   },
   "source": [
    "Training BackProp:"
   ]
  },
  {
   "cell_type": "code",
   "execution_count": 23,
   "metadata": {
    "id": "Z4jlFiuaAsf-"
   },
   "outputs": [
    {
     "name": "stdout",
     "output_type": "stream",
     "text": [
      "Epoch: 0, Accuracy: 0.0819, Loss: 3.5349096466059926\n",
      "Epoch: 1, Accuracy: 0.0832, Loss: 3.8300998650674494\n",
      "Epoch: 2, Accuracy: 0.0845, Loss: 4.174120314919082\n",
      "Epoch: 3, Accuracy: 0.0871, Loss: 4.509682488604478\n",
      "Epoch: 4, Accuracy: 0.0922, Loss: 4.809960342800132\n",
      "Epoch: 5, Accuracy: 0.0967, Loss: 5.0786658442308585\n",
      "Epoch: 6, Accuracy: 0.1029, Loss: 5.3209257719794545\n",
      "Epoch: 7, Accuracy: 0.1093, Loss: 5.535322014457351\n",
      "Epoch: 8, Accuracy: 0.1154, Loss: 5.72037891708644\n",
      "Epoch: 9, Accuracy: 0.12, Loss: 5.8780143321879725\n",
      "Epoch: 0, Accuracy: 0.08, Loss: 3.309328138414141\n",
      "Epoch: 1, Accuracy: 0.0895, Loss: 4.16702603845077\n",
      "Epoch: 2, Accuracy: 0.1009, Loss: 4.685376053482008\n",
      "Epoch: 3, Accuracy: 0.1009, Loss: 5.488281368816264\n",
      "Epoch: 4, Accuracy: 0.1009, Loss: 5.750395788632801\n",
      "Epoch: 5, Accuracy: 0.1009, Loss: 5.845063932833203\n",
      "Epoch: 6, Accuracy: 0.1009, Loss: 5.8794419645777936\n",
      "Epoch: 7, Accuracy: 0.1009, Loss: 5.883534105769217\n",
      "Epoch: 8, Accuracy: 0.1009, Loss: 5.8705813583237205\n",
      "Epoch: 9, Accuracy: 0.1009, Loss: 5.848091705477981\n",
      "Epoch: 0, Accuracy: 0.2146, Loss: 5.133793480238682\n",
      "Epoch: 1, Accuracy: 0.2882, Loss: 5.664221339543642\n",
      "Epoch: 2, Accuracy: 0.3311, Loss: 5.351911346584382\n",
      "Epoch: 3, Accuracy: 0.3698, Loss: 5.083108891633719\n",
      "Epoch: 4, Accuracy: 0.4058, Loss: 4.820820001736224\n",
      "Epoch: 5, Accuracy: 0.4397, Loss: 4.594580779503653\n",
      "Epoch: 6, Accuracy: 0.4632, Loss: 4.424575228024963\n",
      "Epoch: 7, Accuracy: 0.4815, Loss: 4.300379609290357\n",
      "Epoch: 8, Accuracy: 0.4959, Loss: 4.20624891447827\n",
      "Epoch: 9, Accuracy: 0.5073, Loss: 4.128005417875466\n",
      "Epoch: 0, Accuracy: 0.534, Loss: 5.034880630912138\n",
      "Epoch: 1, Accuracy: 0.7218, Loss: 2.650263577030032\n",
      "Epoch: 2, Accuracy: 0.7663, Loss: 2.1529946487643428\n",
      "Epoch: 3, Accuracy: 0.7862, Loss: 1.9969476030569375\n",
      "Epoch: 4, Accuracy: 0.7967, Loss: 1.8993954440883374\n",
      "Epoch: 5, Accuracy: 0.8041, Loss: 1.829819779145597\n",
      "Epoch: 6, Accuracy: 0.8096, Loss: 1.7750736260978446\n",
      "Epoch: 7, Accuracy: 0.8149, Loss: 1.729443535318641\n",
      "Epoch: 8, Accuracy: 0.8191, Loss: 1.6884266533084813\n",
      "Epoch: 9, Accuracy: 0.822, Loss: 1.6515042794660724\n",
      "Epoch: 0, Accuracy: 0.1186, Loss: 16.967890283236162\n",
      "Epoch: 1, Accuracy: 0.3239, Loss: 14.012180699280549\n",
      "Epoch: 2, Accuracy: 0.397, Loss: 11.0371553262671\n",
      "Epoch: 3, Accuracy: 0.3988, Loss: 10.819340610403604\n",
      "Epoch: 4, Accuracy: 0.3999, Loss: 10.787191102924828\n",
      "Epoch: 5, Accuracy: 0.4024, Loss: 10.705278064657465\n",
      "Epoch: 6, Accuracy: 0.4038, Loss: 10.602428692680533\n",
      "Epoch: 7, Accuracy: 0.4093, Loss: 10.477217568127678\n",
      "Epoch: 8, Accuracy: 0.4152, Loss: 10.37341185932397\n",
      "Epoch: 9, Accuracy: 0.4986, Loss: 9.422964861862102\n",
      "Epoch: 0, Accuracy: 0.098, Loss: 100.07248208998888\n",
      "Epoch: 1, Accuracy: 0.098, Loss: 100.21288861756459\n",
      "Epoch: 2, Accuracy: 0.101, Loss: 104.70962443050563\n",
      "Epoch: 3, Accuracy: 0.101, Loss: 104.8457851618254\n",
      "Epoch: 4, Accuracy: 0.101, Loss: 104.84578194335232\n",
      "Epoch: 5, Accuracy: 0.101, Loss: 104.8457787248285\n",
      "Epoch: 6, Accuracy: 0.101, Loss: 104.84577550625367\n",
      "Epoch: 7, Accuracy: 0.101, Loss: 104.84577228762798\n",
      "Epoch: 8, Accuracy: 0.101, Loss: 104.84576906895136\n",
      "Epoch: 9, Accuracy: 0.101, Loss: 104.84576585022359\n"
     ]
    },
    {
     "name": "stderr",
     "output_type": "stream",
     "text": [
      "C:\\Users\\HP\\AppData\\Local\\Temp\\ipykernel_9616\\1540929663.py:2: RuntimeWarning:\n",
      "\n",
      "overflow encountered in exp\n",
      "\n",
      "C:\\Users\\HP\\AppData\\Local\\Temp\\ipykernel_9616\\1540929663.py:12: RuntimeWarning:\n",
      "\n",
      "divide by zero encountered in log\n",
      "\n",
      "C:\\Users\\HP\\AppData\\Local\\Temp\\ipykernel_9616\\1540929663.py:12: RuntimeWarning:\n",
      "\n",
      "invalid value encountered in multiply\n",
      "\n"
     ]
    },
    {
     "name": "stdout",
     "output_type": "stream",
     "text": [
      "Epoch: 0, Accuracy: 0.1135, Loss: nan\n",
      "Epoch: 1, Accuracy: 0.098, Loss: nan\n",
      "Epoch: 2, Accuracy: 0.098, Loss: nan\n",
      "Epoch: 3, Accuracy: 0.098, Loss: nan\n",
      "Epoch: 4, Accuracy: 0.098, Loss: nan\n",
      "Epoch: 5, Accuracy: 0.098, Loss: nan\n",
      "Epoch: 6, Accuracy: 0.098, Loss: nan\n",
      "Epoch: 7, Accuracy: 0.098, Loss: nan\n",
      "Epoch: 8, Accuracy: 0.098, Loss: nan\n",
      "Epoch: 9, Accuracy: 0.098, Loss: nan\n"
     ]
    }
   ],
   "source": [
    "for i in range(0,7):\n",
    "    task = Task.create(project_name='DNN homework 1 - ProxProp', task_name=f'BackProp {i}')\n",
    "    task.mark_started()\n",
    "    logger = task.get_logger()\n",
    "\n",
    "    np.random.seed(arr[i])\n",
    "    network = Network(layers)\n",
    "    network.SGD(\n",
    "        (x_train, y_train),\n",
    "        epochs=10,\n",
    "        mini_batch_size=100,\n",
    "        eta=10**(i-3),\n",
    "        test_data=(x_test, y_test),\n",
    "        logger=logger\n",
    "    )\n",
    "    memB_usage.append(memory_usage(-1))\n",
    "\n",
    "\n",
    "    task.mark_completed()\n",
    "    task.close()"
   ]
  },
  {
   "cell_type": "markdown",
   "metadata": {
    "id": "EGsUipzAIADk"
   },
   "source": [
    "Different architecture, same eta values"
   ]
  },
  {
   "cell_type": "code",
   "execution_count": 24,
   "metadata": {
    "id": "QoT3EHGEBGlF"
   },
   "outputs": [],
   "source": [
    "arr = np.random.randint(1000, size = 7)\n",
    "\n",
    "layers = [784, 100, 100, 100, 10]"
   ]
  },
  {
   "cell_type": "code",
   "execution_count": 25,
   "metadata": {
    "collapsed": true,
    "id": "udNN-uNDY-tL"
   },
   "outputs": [
    {
     "name": "stdout",
     "output_type": "stream",
     "text": [
      "Epoch: 0, Accuracy: 0.1702, Loss: 11.979134317019383\n",
      "Epoch: 1, Accuracy: 0.1711, Loss: 1.2009087184521798\n",
      "Epoch: 2, Accuracy: 0.171, Loss: 1.2070371060989251\n",
      "Epoch: 3, Accuracy: 0.1712, Loss: 1.213286731464178\n",
      "Epoch: 4, Accuracy: 0.1709, Loss: 1.2196587880082872\n",
      "Epoch: 5, Accuracy: 0.1713, Loss: 1.2261543956873198\n",
      "Epoch: 6, Accuracy: 0.1716, Loss: 1.232774604702918\n",
      "Epoch: 7, Accuracy: 0.1717, Loss: 1.239520399133643\n",
      "Epoch: 8, Accuracy: 0.1716, Loss: 1.246392700366265\n",
      "Epoch: 9, Accuracy: 0.1718, Loss: 1.2533923702606358\n",
      "Epoch: 10, Accuracy: 0.1717, Loss: 1.2605202139967984\n",
      "Epoch: 0, Accuracy: 0.1353, Loss: 17.404171898735832\n",
      "Epoch: 1, Accuracy: 0.1352, Loss: 1.7876405513728373\n",
      "Epoch: 2, Accuracy: 0.1347, Loss: 1.8754029484763457\n",
      "Epoch: 3, Accuracy: 0.134, Loss: 1.952580663638067\n",
      "Epoch: 4, Accuracy: 0.1342, Loss: 2.0200425223727247\n",
      "Epoch: 5, Accuracy: 0.1347, Loss: 2.07970330304349\n",
      "Epoch: 6, Accuracy: 0.1351, Loss: 2.1336845775722133\n",
      "Epoch: 7, Accuracy: 0.1348, Loss: 2.1837906805605916\n",
      "Epoch: 8, Accuracy: 0.1342, Loss: 2.231256027031958\n",
      "Epoch: 9, Accuracy: 0.1345, Loss: 2.2767833270617537\n",
      "Epoch: 10, Accuracy: 0.1342, Loss: 2.3209196162417594\n",
      "Epoch: 0, Accuracy: 0.0756, Loss: 19.34891839661748\n",
      "Epoch: 1, Accuracy: 0.0698, Loss: 2.114256896439028\n",
      "Epoch: 2, Accuracy: 0.0613, Loss: 2.0136492367655463\n",
      "Epoch: 3, Accuracy: 0.0967, Loss: 1.6027036681685527\n",
      "Epoch: 4, Accuracy: 0.3542, Loss: 1.2778322093094845\n",
      "Epoch: 5, Accuracy: 0.6288, Loss: 1.2211051758366163\n",
      "Epoch: 6, Accuracy: 0.7062, Loss: 1.1439607219531613\n",
      "Epoch: 7, Accuracy: 0.738, Loss: 1.0253866479766487\n",
      "Epoch: 8, Accuracy: 0.7623, Loss: 0.9241647096238261\n",
      "Epoch: 9, Accuracy: 0.7802, Loss: 0.8470523602509175\n",
      "Epoch: 10, Accuracy: 0.7941, Loss: 0.7894986821624295\n",
      "Epoch: 0, Accuracy: 0.1025, Loss: 27.142865105409236\n",
      "Epoch: 1, Accuracy: 0.5421, Loss: 1.8381043656584324\n",
      "Epoch: 2, Accuracy: 0.8597, Loss: 1.1046727330845565\n",
      "Epoch: 3, Accuracy: 0.8938, Loss: 0.4645154413857755\n",
      "Epoch: 4, Accuracy: 0.9032, Loss: 0.3698732152485961\n",
      "Epoch: 5, Accuracy: 0.9108, Loss: 0.32092982313153035\n",
      "Epoch: 6, Accuracy: 0.9177, Loss: 0.28828043049514207\n",
      "Epoch: 7, Accuracy: 0.922, Loss: 0.2639485897090513\n",
      "Epoch: 8, Accuracy: 0.9247, Loss: 0.24476688911519526\n",
      "Epoch: 9, Accuracy: 0.9269, Loss: 0.2290190419177145\n",
      "Epoch: 10, Accuracy: 0.9287, Loss: 0.21546409308557396\n",
      "Epoch: 0, Accuracy: 0.1023, Loss: 30.408017896076558\n",
      "Epoch: 1, Accuracy: 0.8038, Loss: 2.4791210729584456\n",
      "Epoch: 2, Accuracy: 0.8244, Loss: 2.269499098180518\n",
      "Epoch: 3, Accuracy: 0.8246, Loss: 2.1792536941002605\n",
      "Epoch: 4, Accuracy: 0.8223, Loss: 2.1605646595074064\n",
      "Epoch: 5, Accuracy: 0.8333, Loss: 2.2483702120496076\n",
      "Epoch: 6, Accuracy: 0.8346, Loss: 2.244287745901479\n",
      "Epoch: 7, Accuracy: 0.8376, Loss: 2.196956565989148\n",
      "Epoch: 8, Accuracy: 0.897, Loss: 1.5076245353256292\n",
      "Epoch: 9, Accuracy: 0.8991, Loss: 1.040002929962984\n",
      "Epoch: 10, Accuracy: 0.898, Loss: 1.0287085365497661\n",
      "Epoch: 0, Accuracy: 0.1166, Loss: 27.413268078419424\n"
     ]
    },
    {
     "name": "stderr",
     "output_type": "stream",
     "text": [
      "C:\\Users\\HP\\AppData\\Local\\Temp\\ipykernel_9616\\1540929663.py:2: RuntimeWarning:\n",
      "\n",
      "overflow encountered in exp\n",
      "\n",
      "C:\\Users\\HP\\AppData\\Local\\Temp\\ipykernel_9616\\1540929663.py:12: RuntimeWarning:\n",
      "\n",
      "divide by zero encountered in log\n",
      "\n",
      "C:\\Users\\HP\\AppData\\Local\\Temp\\ipykernel_9616\\1540929663.py:12: RuntimeWarning:\n",
      "\n",
      "invalid value encountered in multiply\n",
      "\n"
     ]
    },
    {
     "name": "stdout",
     "output_type": "stream",
     "text": [
      "Epoch: 1, Accuracy: 0.1052, Loss: nan\n",
      "Epoch: 2, Accuracy: 0.1009, Loss: nan\n",
      "Epoch: 3, Accuracy: 0.1134, Loss: nan\n",
      "Epoch: 4, Accuracy: 0.1202, Loss: nan\n",
      "Epoch: 5, Accuracy: 0.1157, Loss: nan\n",
      "Epoch: 6, Accuracy: 0.126, Loss: nan\n",
      "Epoch: 7, Accuracy: 0.1261, Loss: nan\n",
      "Epoch: 8, Accuracy: 0.1175, Loss: nan\n",
      "Epoch: 9, Accuracy: 0.1195, Loss: nan\n",
      "Epoch: 10, Accuracy: 0.1192, Loss: nan\n",
      "Epoch: 0, Accuracy: 0.0831, Loss: 16.82703878244559\n",
      "Epoch: 1, Accuracy: 0.101, Loss: nan\n",
      "Epoch: 2, Accuracy: 0.0949, Loss: nan\n",
      "Epoch: 3, Accuracy: 0.1005, Loss: nan\n",
      "Epoch: 4, Accuracy: 0.1024, Loss: nan\n",
      "Epoch: 5, Accuracy: 0.0957, Loss: nan\n",
      "Epoch: 6, Accuracy: 0.0962, Loss: nan\n",
      "Epoch: 7, Accuracy: 0.1048, Loss: nan\n",
      "Epoch: 8, Accuracy: 0.1044, Loss: nan\n",
      "Epoch: 9, Accuracy: 0.1006, Loss: nan\n",
      "Epoch: 10, Accuracy: 0.1008, Loss: nan\n"
     ]
    }
   ],
   "source": [
    "for i in range(0,7):\n",
    "    task = Task.create(project_name='DNN homework 1 - ProxProp', task_name=f'ProxProp {i + 10}')\n",
    "    task.mark_started()\n",
    "    logger = task.get_logger()\n",
    "\n",
    "    np.random.seed(arr[i])\n",
    "    network = ProxProp(layers)\n",
    "    network.SGD(\n",
    "        (x_train, y_train),\n",
    "        epochs=10,\n",
    "        mini_batch_size=100,\n",
    "        eta=10**(i - 3),\n",
    "        test_data=(x_test, y_test),\n",
    "        logger=logger\n",
    "    )\n",
    "    memP_usage.append(memory_usage(-1))\n",
    "\n",
    "\n",
    "    task.mark_completed()\n",
    "    task.close()"
   ]
  },
  {
   "cell_type": "code",
   "execution_count": 26,
   "metadata": {
    "id": "GLmFmDOcA21R"
   },
   "outputs": [
    {
     "name": "stdout",
     "output_type": "stream",
     "text": [
      "Epoch: 0, Accuracy: 0.1696, Loss: 1.3347960515929025\n",
      "Epoch: 1, Accuracy: 0.1574, Loss: 1.7252752188002922\n",
      "Epoch: 2, Accuracy: 0.1336, Loss: 2.2595883155765866\n",
      "Epoch: 3, Accuracy: 0.1221, Loss: 2.8321908049391915\n",
      "Epoch: 4, Accuracy: 0.1402, Loss: 3.306711799516455\n",
      "Epoch: 5, Accuracy: 0.1652, Loss: 3.676113171681277\n",
      "Epoch: 6, Accuracy: 0.1745, Loss: 3.973331976621959\n",
      "Epoch: 7, Accuracy: 0.1778, Loss: 4.188498269551969\n",
      "Epoch: 8, Accuracy: 0.1803, Loss: 4.344541433503818\n",
      "Epoch: 9, Accuracy: 0.1826, Loss: 4.4626029214039065\n",
      "Epoch: 0, Accuracy: 0.1352, Loss: 3.277906930038501\n",
      "Epoch: 1, Accuracy: 0.1626, Loss: 4.8749722700118845\n",
      "Epoch: 2, Accuracy: 0.1789, Loss: 5.159085862255911\n",
      "Epoch: 3, Accuracy: 0.1907, Loss: 5.220783193611264\n",
      "Epoch: 4, Accuracy: 0.205, Loss: 5.209978776226824\n",
      "Epoch: 5, Accuracy: 0.216, Loss: 5.167258894967396\n",
      "Epoch: 6, Accuracy: 0.2264, Loss: 5.107767840448267\n",
      "Epoch: 7, Accuracy: 0.2376, Loss: 5.0369618909254825\n",
      "Epoch: 8, Accuracy: 0.2529, Loss: 4.955996304321902\n",
      "Epoch: 9, Accuracy: 0.2674, Loss: 4.864859329255837\n",
      "Epoch: 0, Accuracy: 0.1881, Loss: 5.090273564862525\n",
      "Epoch: 1, Accuracy: 0.3215, Loss: 4.644323315270485\n",
      "Epoch: 2, Accuracy: 0.3986, Loss: 3.9918870034322964\n",
      "Epoch: 3, Accuracy: 0.4388, Loss: 3.577053826924316\n",
      "Epoch: 4, Accuracy: 0.4734, Loss: 3.1790113001477183\n",
      "Epoch: 5, Accuracy: 0.5255, Loss: 2.7473034029061836\n",
      "Epoch: 6, Accuracy: 0.5949, Loss: 2.3289205518236704\n",
      "Epoch: 7, Accuracy: 0.6334, Loss: 2.054606569396811\n",
      "Epoch: 8, Accuracy: 0.6666, Loss: 1.907937540471244\n",
      "Epoch: 9, Accuracy: 0.6916, Loss: 1.8171260954776047\n",
      "Epoch: 0, Accuracy: 0.5244, Loss: 4.447211271861243\n",
      "Epoch: 1, Accuracy: 0.6352, Loss: 3.0396463893801586\n",
      "Epoch: 2, Accuracy: 0.6792, Loss: 2.653065625563147\n",
      "Epoch: 3, Accuracy: 0.6974, Loss: 2.4025642429166845\n",
      "Epoch: 4, Accuracy: 0.7765, Loss: 1.7591629194875928\n",
      "Epoch: 5, Accuracy: 0.7913, Loss: 1.508283429205735\n",
      "Epoch: 6, Accuracy: 0.8015, Loss: 1.4132876646585393\n",
      "Epoch: 7, Accuracy: 0.8073, Loss: 1.3351269938199282\n",
      "Epoch: 8, Accuracy: 0.8139, Loss: 1.232738280466472\n",
      "Epoch: 9, Accuracy: 0.8955, Loss: 0.7029060425640091\n",
      "Epoch: 0, Accuracy: 0.1135, Loss: 23.41702450447258\n",
      "Epoch: 1, Accuracy: 0.1138, Loss: 22.150949288287492\n",
      "Epoch: 2, Accuracy: 0.1139, Loss: 22.119111108969857\n",
      "Epoch: 3, Accuracy: 0.1136, Loss: 22.199996226524366\n",
      "Epoch: 4, Accuracy: 0.1135, Loss: 22.24148522546414\n",
      "Epoch: 5, Accuracy: 0.1135, Loss: 22.272272501371443\n",
      "Epoch: 6, Accuracy: 0.1135, Loss: 22.299118571029783\n",
      "Epoch: 7, Accuracy: 0.1135, Loss: 22.305616625208366\n",
      "Epoch: 8, Accuracy: 0.1135, Loss: 22.268167705502115\n",
      "Epoch: 9, Accuracy: 0.1135, Loss: 22.233429170155386\n",
      "Epoch: 0, Accuracy: 0.098, Loss: 143.41834788796098\n",
      "Epoch: 1, Accuracy: 0.098, Loss: 146.1754282507976\n",
      "Epoch: 2, Accuracy: 0.098, Loss: 146.17542824481535\n",
      "Epoch: 3, Accuracy: 0.098, Loss: 146.17542823883292\n",
      "Epoch: 4, Accuracy: 0.098, Loss: 146.1754282328506\n",
      "Epoch: 5, Accuracy: 0.098, Loss: 146.17542822686798\n",
      "Epoch: 6, Accuracy: 0.098, Loss: 146.17542822088552\n",
      "Epoch: 7, Accuracy: 0.098, Loss: 146.17542821490338\n",
      "Epoch: 8, Accuracy: 0.098, Loss: 146.17542820892075\n",
      "Epoch: 9, Accuracy: 0.098, Loss: 146.17542820293835\n"
     ]
    },
    {
     "name": "stderr",
     "output_type": "stream",
     "text": [
      "C:\\Users\\HP\\AppData\\Local\\Temp\\ipykernel_9616\\1540929663.py:2: RuntimeWarning:\n",
      "\n",
      "overflow encountered in exp\n",
      "\n",
      "C:\\Users\\HP\\AppData\\Local\\Temp\\ipykernel_9616\\1540929663.py:12: RuntimeWarning:\n",
      "\n",
      "divide by zero encountered in log\n",
      "\n",
      "C:\\Users\\HP\\AppData\\Local\\Temp\\ipykernel_9616\\1540929663.py:12: RuntimeWarning:\n",
      "\n",
      "invalid value encountered in multiply\n",
      "\n"
     ]
    },
    {
     "name": "stdout",
     "output_type": "stream",
     "text": [
      "Epoch: 0, Accuracy: 0.0958, Loss: nan\n",
      "Epoch: 1, Accuracy: 0.0958, Loss: nan\n",
      "Epoch: 2, Accuracy: 0.0958, Loss: nan\n",
      "Epoch: 3, Accuracy: 0.0958, Loss: nan\n",
      "Epoch: 4, Accuracy: 0.0958, Loss: nan\n",
      "Epoch: 5, Accuracy: 0.0958, Loss: nan\n",
      "Epoch: 6, Accuracy: 0.0958, Loss: nan\n",
      "Epoch: 7, Accuracy: 0.0958, Loss: nan\n",
      "Epoch: 8, Accuracy: 0.0958, Loss: nan\n",
      "Epoch: 9, Accuracy: 0.0958, Loss: nan\n"
     ]
    }
   ],
   "source": [
    "for i in range(0,7):\n",
    "    task = Task.create(project_name='DNN homework 1 - ProxProp', task_name=f'BackProp {i + 10}')\n",
    "    task.mark_started()\n",
    "    logger = task.get_logger()\n",
    "\n",
    "    np.random.seed(arr[i])\n",
    "    network = Network(layers)\n",
    "    network.SGD(\n",
    "        (x_train, y_train),\n",
    "        epochs=10,\n",
    "        mini_batch_size=100,\n",
    "        eta=10**(i - 3),\n",
    "        test_data=(x_test, y_test),\n",
    "        logger=logger\n",
    "    )\n",
    "    memB_usage.append(memory_usage(-1))\n",
    "\n",
    "\n",
    "    task.mark_completed()\n",
    "    task.close()"
   ]
  },
  {
   "cell_type": "markdown",
   "metadata": {},
   "source": [
    "94% accuraccy :)"
   ]
  },
  {
   "cell_type": "code",
   "execution_count": null,
   "metadata": {},
   "outputs": [
    {
     "name": "stdout",
     "output_type": "stream",
     "text": [
      "Epoch: 0, Accuracy: 0.1392, Loss: 21.775272249889287\n",
      "Epoch: 1, Accuracy: 0.9096, Loss: 0.6403989419296455\n",
      "Epoch: 2, Accuracy: 0.9252, Loss: 0.34483386444425473\n",
      "Epoch: 3, Accuracy: 0.9375, Loss: 0.28313234400453163\n",
      "Epoch: 4, Accuracy: 0.941, Loss: 0.2456815768531751\n",
      "Epoch: 5, Accuracy: 0.9438, Loss: 0.2293669908605946\n",
      "Epoch: 6, Accuracy: 0.9415, Loss: 0.2161287132917378\n",
      "Epoch: 7, Accuracy: 0.9419, Loss: 0.20688575286242214\n",
      "Epoch: 8, Accuracy: 0.9434, Loss: 0.19921326628274316\n",
      "Epoch: 9, Accuracy: 0.9429, Loss: 0.19391524628616363\n",
      "Epoch: 10, Accuracy: 0.9428, Loss: 0.18946023430694708\n"
     ]
    }
   ],
   "source": [
    "task = Task.create(project_name='DNN homework 1 - ProxProp', task_name=f'ProxProp eta = 7')\n",
    "task.mark_started()\n",
    "logger = task.get_logger()\n",
    "\n",
    "np.random.seed(arr[i])\n",
    "network = ProxProp([784, 64, 64, 10])\n",
    "network.SGD(\n",
    "    (x_train, y_train),\n",
    "    epochs=10,\n",
    "    mini_batch_size=100,\n",
    "    eta=7,\n",
    "    test_data=(x_test, y_test),\n",
    "    logger=logger)\n",
    "\n",
    "task.mark_completed()\n",
    "task.close()"
   ]
  },
  {
   "cell_type": "markdown",
   "metadata": {
    "id": "aChkzDTD5zWE"
   },
   "source": [
    "# Training plots for the best training\n",
    "\n"
   ]
  },
  {
   "cell_type": "markdown",
   "metadata": {
    "id": "HO95xlkEIe91"
   },
   "source": [
    "Importing useful libraries"
   ]
  },
  {
   "cell_type": "code",
   "execution_count": 27,
   "metadata": {
    "id": "q_8Qvd2r7qZL"
   },
   "outputs": [],
   "source": [
    "import pandas as pd\n",
    "import plotly.express as px"
   ]
  },
  {
   "cell_type": "markdown",
   "metadata": {
    "id": "y-oVTpxIIiYI"
   },
   "source": [
    "I'm choosing 5 best experiments for ProxProp network and one BackProp for comparison."
   ]
  },
  {
   "cell_type": "code",
   "execution_count": 49,
   "metadata": {
    "id": "-eDhcp01AEd8"
   },
   "outputs": [
    {
     "data": {
      "application/vnd.plotly.v1+json": {
       "config": {
        "plotlyServerURL": "https://plot.ly"
       },
       "data": [
        {
         "hovertemplate": "Experiment=ProxProp 3<br>Epochs=%{x}<br>Accuracy [%]=%{y}<extra></extra>",
         "legendgroup": "ProxProp 3",
         "line": {
          "color": "#636efa",
          "dash": "solid"
         },
         "marker": {
          "symbol": "circle"
         },
         "mode": "lines",
         "name": "ProxProp 3",
         "orientation": "v",
         "showlegend": true,
         "type": "scatter",
         "x": [
          0,
          1,
          2,
          3,
          4,
          5,
          6,
          7,
          8,
          9,
          10
         ],
         "xaxis": "x",
         "y": [
          0.10209999978542328,
          0.17659999430179596,
          0.7825000286102295,
          0.8084999918937683,
          0.8220000267028809,
          0.8725000023841858,
          0.9064000248908997,
          0.9125999808311462,
          0.9176999926567078,
          0.9210000038146973,
          0.9236999750137329
         ],
         "yaxis": "y"
        },
        {
         "hovertemplate": "Experiment=ProxProp 4<br>Epochs=%{x}<br>Accuracy [%]=%{y}<extra></extra>",
         "legendgroup": "ProxProp 4",
         "line": {
          "color": "#EF553B",
          "dash": "solid"
         },
         "marker": {
          "symbol": "circle"
         },
         "mode": "lines",
         "name": "ProxProp 4",
         "orientation": "v",
         "showlegend": true,
         "type": "scatter",
         "x": [
          0,
          1,
          2,
          3,
          4,
          5,
          6,
          7,
          8,
          9,
          10
         ],
         "xaxis": "x",
         "y": [
          0.09740000218153,
          0.14489999413490295,
          0.8300999999046326,
          0.8382999897003174,
          0.8411999940872192,
          0.8428999781608582,
          0.8485000133514404,
          0.8483999967575073,
          0.8518000245094299,
          0.8517000079154968,
          0.8561999797821045
         ],
         "yaxis": "y"
        },
        {
         "hovertemplate": "Experiment=ProxProp 13<br>Epochs=%{x}<br>Accuracy [%]=%{y}<extra></extra>",
         "legendgroup": "ProxProp 13",
         "line": {
          "color": "#00cc96",
          "dash": "solid"
         },
         "marker": {
          "symbol": "circle"
         },
         "mode": "lines",
         "name": "ProxProp 13",
         "orientation": "v",
         "showlegend": true,
         "type": "scatter",
         "x": [
          0,
          1,
          2,
          3,
          4,
          5,
          6,
          7,
          8,
          9,
          10
         ],
         "xaxis": "x",
         "y": [
          0.10249999910593033,
          0.5421000123023987,
          0.8597000241279602,
          0.8938000202178955,
          0.9031999707221985,
          0.9107999801635742,
          0.9176999926567078,
          0.921999990940094,
          0.9247000217437744,
          0.9269000291824341,
          0.9286999702453613
         ],
         "yaxis": "y"
        },
        {
         "hovertemplate": "Experiment=ProxProp 14<br>Epochs=%{x}<br>Accuracy [%]=%{y}<extra></extra>",
         "legendgroup": "ProxProp 14",
         "line": {
          "color": "#ab63fa",
          "dash": "solid"
         },
         "marker": {
          "symbol": "circle"
         },
         "mode": "lines",
         "name": "ProxProp 14",
         "orientation": "v",
         "showlegend": true,
         "type": "scatter",
         "x": [
          0,
          1,
          2,
          3,
          4,
          5,
          6,
          7,
          8,
          9,
          10
         ],
         "xaxis": "x",
         "y": [
          0.1023000031709671,
          0.8037999868392944,
          0.824400007724762,
          0.8245999813079834,
          0.8223000168800354,
          0.833299994468689,
          0.8345999717712402,
          0.8375999927520752,
          0.8970000147819519,
          0.8991000056266785,
          0.8980000019073486
         ],
         "yaxis": "y"
        },
        {
         "hovertemplate": "Experiment=ProxProp eta = 7<br>Epochs=%{x}<br>Accuracy [%]=%{y}<extra></extra>",
         "legendgroup": "ProxProp eta = 7",
         "line": {
          "color": "#FFA15A",
          "dash": "solid"
         },
         "marker": {
          "symbol": "circle"
         },
         "mode": "lines",
         "name": "ProxProp eta = 7",
         "orientation": "v",
         "showlegend": true,
         "type": "scatter",
         "x": [
          0,
          1,
          2,
          3,
          4,
          5,
          6,
          7,
          8,
          9,
          10
         ],
         "xaxis": "x",
         "y": [
          0.13920000195503235,
          0.909600019454956,
          0.9251999855041504,
          0.9375,
          0.9409999847412109,
          0.9437999725341797,
          0.9415000081062317,
          0.9419000148773193,
          0.9434000253677368,
          0.9429000020027161,
          0.942799985408783
         ],
         "yaxis": "y"
        }
       ],
       "layout": {
        "legend": {
         "title": {
          "text": "Experiment"
         },
         "tracegroupgap": 0
        },
        "template": {
         "data": {
          "bar": [
           {
            "error_x": {
             "color": "#2a3f5f"
            },
            "error_y": {
             "color": "#2a3f5f"
            },
            "marker": {
             "line": {
              "color": "#E5ECF6",
              "width": 0.5
             },
             "pattern": {
              "fillmode": "overlay",
              "size": 10,
              "solidity": 0.2
             }
            },
            "type": "bar"
           }
          ],
          "barpolar": [
           {
            "marker": {
             "line": {
              "color": "#E5ECF6",
              "width": 0.5
             },
             "pattern": {
              "fillmode": "overlay",
              "size": 10,
              "solidity": 0.2
             }
            },
            "type": "barpolar"
           }
          ],
          "carpet": [
           {
            "aaxis": {
             "endlinecolor": "#2a3f5f",
             "gridcolor": "white",
             "linecolor": "white",
             "minorgridcolor": "white",
             "startlinecolor": "#2a3f5f"
            },
            "baxis": {
             "endlinecolor": "#2a3f5f",
             "gridcolor": "white",
             "linecolor": "white",
             "minorgridcolor": "white",
             "startlinecolor": "#2a3f5f"
            },
            "type": "carpet"
           }
          ],
          "choropleth": [
           {
            "colorbar": {
             "outlinewidth": 0,
             "ticks": ""
            },
            "type": "choropleth"
           }
          ],
          "contour": [
           {
            "colorbar": {
             "outlinewidth": 0,
             "ticks": ""
            },
            "colorscale": [
             [
              0,
              "#0d0887"
             ],
             [
              0.1111111111111111,
              "#46039f"
             ],
             [
              0.2222222222222222,
              "#7201a8"
             ],
             [
              0.3333333333333333,
              "#9c179e"
             ],
             [
              0.4444444444444444,
              "#bd3786"
             ],
             [
              0.5555555555555556,
              "#d8576b"
             ],
             [
              0.6666666666666666,
              "#ed7953"
             ],
             [
              0.7777777777777778,
              "#fb9f3a"
             ],
             [
              0.8888888888888888,
              "#fdca26"
             ],
             [
              1,
              "#f0f921"
             ]
            ],
            "type": "contour"
           }
          ],
          "contourcarpet": [
           {
            "colorbar": {
             "outlinewidth": 0,
             "ticks": ""
            },
            "type": "contourcarpet"
           }
          ],
          "heatmap": [
           {
            "colorbar": {
             "outlinewidth": 0,
             "ticks": ""
            },
            "colorscale": [
             [
              0,
              "#0d0887"
             ],
             [
              0.1111111111111111,
              "#46039f"
             ],
             [
              0.2222222222222222,
              "#7201a8"
             ],
             [
              0.3333333333333333,
              "#9c179e"
             ],
             [
              0.4444444444444444,
              "#bd3786"
             ],
             [
              0.5555555555555556,
              "#d8576b"
             ],
             [
              0.6666666666666666,
              "#ed7953"
             ],
             [
              0.7777777777777778,
              "#fb9f3a"
             ],
             [
              0.8888888888888888,
              "#fdca26"
             ],
             [
              1,
              "#f0f921"
             ]
            ],
            "type": "heatmap"
           }
          ],
          "heatmapgl": [
           {
            "colorbar": {
             "outlinewidth": 0,
             "ticks": ""
            },
            "colorscale": [
             [
              0,
              "#0d0887"
             ],
             [
              0.1111111111111111,
              "#46039f"
             ],
             [
              0.2222222222222222,
              "#7201a8"
             ],
             [
              0.3333333333333333,
              "#9c179e"
             ],
             [
              0.4444444444444444,
              "#bd3786"
             ],
             [
              0.5555555555555556,
              "#d8576b"
             ],
             [
              0.6666666666666666,
              "#ed7953"
             ],
             [
              0.7777777777777778,
              "#fb9f3a"
             ],
             [
              0.8888888888888888,
              "#fdca26"
             ],
             [
              1,
              "#f0f921"
             ]
            ],
            "type": "heatmapgl"
           }
          ],
          "histogram": [
           {
            "marker": {
             "pattern": {
              "fillmode": "overlay",
              "size": 10,
              "solidity": 0.2
             }
            },
            "type": "histogram"
           }
          ],
          "histogram2d": [
           {
            "colorbar": {
             "outlinewidth": 0,
             "ticks": ""
            },
            "colorscale": [
             [
              0,
              "#0d0887"
             ],
             [
              0.1111111111111111,
              "#46039f"
             ],
             [
              0.2222222222222222,
              "#7201a8"
             ],
             [
              0.3333333333333333,
              "#9c179e"
             ],
             [
              0.4444444444444444,
              "#bd3786"
             ],
             [
              0.5555555555555556,
              "#d8576b"
             ],
             [
              0.6666666666666666,
              "#ed7953"
             ],
             [
              0.7777777777777778,
              "#fb9f3a"
             ],
             [
              0.8888888888888888,
              "#fdca26"
             ],
             [
              1,
              "#f0f921"
             ]
            ],
            "type": "histogram2d"
           }
          ],
          "histogram2dcontour": [
           {
            "colorbar": {
             "outlinewidth": 0,
             "ticks": ""
            },
            "colorscale": [
             [
              0,
              "#0d0887"
             ],
             [
              0.1111111111111111,
              "#46039f"
             ],
             [
              0.2222222222222222,
              "#7201a8"
             ],
             [
              0.3333333333333333,
              "#9c179e"
             ],
             [
              0.4444444444444444,
              "#bd3786"
             ],
             [
              0.5555555555555556,
              "#d8576b"
             ],
             [
              0.6666666666666666,
              "#ed7953"
             ],
             [
              0.7777777777777778,
              "#fb9f3a"
             ],
             [
              0.8888888888888888,
              "#fdca26"
             ],
             [
              1,
              "#f0f921"
             ]
            ],
            "type": "histogram2dcontour"
           }
          ],
          "mesh3d": [
           {
            "colorbar": {
             "outlinewidth": 0,
             "ticks": ""
            },
            "type": "mesh3d"
           }
          ],
          "parcoords": [
           {
            "line": {
             "colorbar": {
              "outlinewidth": 0,
              "ticks": ""
             }
            },
            "type": "parcoords"
           }
          ],
          "pie": [
           {
            "automargin": true,
            "type": "pie"
           }
          ],
          "scatter": [
           {
            "fillpattern": {
             "fillmode": "overlay",
             "size": 10,
             "solidity": 0.2
            },
            "type": "scatter"
           }
          ],
          "scatter3d": [
           {
            "line": {
             "colorbar": {
              "outlinewidth": 0,
              "ticks": ""
             }
            },
            "marker": {
             "colorbar": {
              "outlinewidth": 0,
              "ticks": ""
             }
            },
            "type": "scatter3d"
           }
          ],
          "scattercarpet": [
           {
            "marker": {
             "colorbar": {
              "outlinewidth": 0,
              "ticks": ""
             }
            },
            "type": "scattercarpet"
           }
          ],
          "scattergeo": [
           {
            "marker": {
             "colorbar": {
              "outlinewidth": 0,
              "ticks": ""
             }
            },
            "type": "scattergeo"
           }
          ],
          "scattergl": [
           {
            "marker": {
             "colorbar": {
              "outlinewidth": 0,
              "ticks": ""
             }
            },
            "type": "scattergl"
           }
          ],
          "scattermapbox": [
           {
            "marker": {
             "colorbar": {
              "outlinewidth": 0,
              "ticks": ""
             }
            },
            "type": "scattermapbox"
           }
          ],
          "scatterpolar": [
           {
            "marker": {
             "colorbar": {
              "outlinewidth": 0,
              "ticks": ""
             }
            },
            "type": "scatterpolar"
           }
          ],
          "scatterpolargl": [
           {
            "marker": {
             "colorbar": {
              "outlinewidth": 0,
              "ticks": ""
             }
            },
            "type": "scatterpolargl"
           }
          ],
          "scatterternary": [
           {
            "marker": {
             "colorbar": {
              "outlinewidth": 0,
              "ticks": ""
             }
            },
            "type": "scatterternary"
           }
          ],
          "surface": [
           {
            "colorbar": {
             "outlinewidth": 0,
             "ticks": ""
            },
            "colorscale": [
             [
              0,
              "#0d0887"
             ],
             [
              0.1111111111111111,
              "#46039f"
             ],
             [
              0.2222222222222222,
              "#7201a8"
             ],
             [
              0.3333333333333333,
              "#9c179e"
             ],
             [
              0.4444444444444444,
              "#bd3786"
             ],
             [
              0.5555555555555556,
              "#d8576b"
             ],
             [
              0.6666666666666666,
              "#ed7953"
             ],
             [
              0.7777777777777778,
              "#fb9f3a"
             ],
             [
              0.8888888888888888,
              "#fdca26"
             ],
             [
              1,
              "#f0f921"
             ]
            ],
            "type": "surface"
           }
          ],
          "table": [
           {
            "cells": {
             "fill": {
              "color": "#EBF0F8"
             },
             "line": {
              "color": "white"
             }
            },
            "header": {
             "fill": {
              "color": "#C8D4E3"
             },
             "line": {
              "color": "white"
             }
            },
            "type": "table"
           }
          ]
         },
         "layout": {
          "annotationdefaults": {
           "arrowcolor": "#2a3f5f",
           "arrowhead": 0,
           "arrowwidth": 1
          },
          "autotypenumbers": "strict",
          "coloraxis": {
           "colorbar": {
            "outlinewidth": 0,
            "ticks": ""
           }
          },
          "colorscale": {
           "diverging": [
            [
             0,
             "#8e0152"
            ],
            [
             0.1,
             "#c51b7d"
            ],
            [
             0.2,
             "#de77ae"
            ],
            [
             0.3,
             "#f1b6da"
            ],
            [
             0.4,
             "#fde0ef"
            ],
            [
             0.5,
             "#f7f7f7"
            ],
            [
             0.6,
             "#e6f5d0"
            ],
            [
             0.7,
             "#b8e186"
            ],
            [
             0.8,
             "#7fbc41"
            ],
            [
             0.9,
             "#4d9221"
            ],
            [
             1,
             "#276419"
            ]
           ],
           "sequential": [
            [
             0,
             "#0d0887"
            ],
            [
             0.1111111111111111,
             "#46039f"
            ],
            [
             0.2222222222222222,
             "#7201a8"
            ],
            [
             0.3333333333333333,
             "#9c179e"
            ],
            [
             0.4444444444444444,
             "#bd3786"
            ],
            [
             0.5555555555555556,
             "#d8576b"
            ],
            [
             0.6666666666666666,
             "#ed7953"
            ],
            [
             0.7777777777777778,
             "#fb9f3a"
            ],
            [
             0.8888888888888888,
             "#fdca26"
            ],
            [
             1,
             "#f0f921"
            ]
           ],
           "sequentialminus": [
            [
             0,
             "#0d0887"
            ],
            [
             0.1111111111111111,
             "#46039f"
            ],
            [
             0.2222222222222222,
             "#7201a8"
            ],
            [
             0.3333333333333333,
             "#9c179e"
            ],
            [
             0.4444444444444444,
             "#bd3786"
            ],
            [
             0.5555555555555556,
             "#d8576b"
            ],
            [
             0.6666666666666666,
             "#ed7953"
            ],
            [
             0.7777777777777778,
             "#fb9f3a"
            ],
            [
             0.8888888888888888,
             "#fdca26"
            ],
            [
             1,
             "#f0f921"
            ]
           ]
          },
          "colorway": [
           "#636efa",
           "#EF553B",
           "#00cc96",
           "#ab63fa",
           "#FFA15A",
           "#19d3f3",
           "#FF6692",
           "#B6E880",
           "#FF97FF",
           "#FECB52"
          ],
          "font": {
           "color": "#2a3f5f"
          },
          "geo": {
           "bgcolor": "white",
           "lakecolor": "white",
           "landcolor": "#E5ECF6",
           "showlakes": true,
           "showland": true,
           "subunitcolor": "white"
          },
          "hoverlabel": {
           "align": "left"
          },
          "hovermode": "closest",
          "mapbox": {
           "style": "light"
          },
          "paper_bgcolor": "white",
          "plot_bgcolor": "#E5ECF6",
          "polar": {
           "angularaxis": {
            "gridcolor": "white",
            "linecolor": "white",
            "ticks": ""
           },
           "bgcolor": "#E5ECF6",
           "radialaxis": {
            "gridcolor": "white",
            "linecolor": "white",
            "ticks": ""
           }
          },
          "scene": {
           "xaxis": {
            "backgroundcolor": "#E5ECF6",
            "gridcolor": "white",
            "gridwidth": 2,
            "linecolor": "white",
            "showbackground": true,
            "ticks": "",
            "zerolinecolor": "white"
           },
           "yaxis": {
            "backgroundcolor": "#E5ECF6",
            "gridcolor": "white",
            "gridwidth": 2,
            "linecolor": "white",
            "showbackground": true,
            "ticks": "",
            "zerolinecolor": "white"
           },
           "zaxis": {
            "backgroundcolor": "#E5ECF6",
            "gridcolor": "white",
            "gridwidth": 2,
            "linecolor": "white",
            "showbackground": true,
            "ticks": "",
            "zerolinecolor": "white"
           }
          },
          "shapedefaults": {
           "line": {
            "color": "#2a3f5f"
           }
          },
          "ternary": {
           "aaxis": {
            "gridcolor": "white",
            "linecolor": "white",
            "ticks": ""
           },
           "baxis": {
            "gridcolor": "white",
            "linecolor": "white",
            "ticks": ""
           },
           "bgcolor": "#E5ECF6",
           "caxis": {
            "gridcolor": "white",
            "linecolor": "white",
            "ticks": ""
           }
          },
          "title": {
           "x": 0.05
          },
          "xaxis": {
           "automargin": true,
           "gridcolor": "white",
           "linecolor": "white",
           "ticks": "",
           "title": {
            "standoff": 15
           },
           "zerolinecolor": "white",
           "zerolinewidth": 2
          },
          "yaxis": {
           "automargin": true,
           "gridcolor": "white",
           "linecolor": "white",
           "ticks": "",
           "title": {
            "standoff": 15
           },
           "zerolinecolor": "white",
           "zerolinewidth": 2
          }
         }
        },
        "title": {
         "text": "Test accuracy"
        },
        "xaxis": {
         "anchor": "y",
         "domain": [
          0,
          1
         ],
         "title": {
          "text": "Epochs"
         }
        },
        "yaxis": {
         "anchor": "x",
         "domain": [
          0,
          1
         ],
         "title": {
          "text": "Accuracy [%]"
         }
        }
       }
      }
     },
     "metadata": {},
     "output_type": "display_data"
    },
    {
     "data": {
      "application/vnd.plotly.v1+json": {
       "config": {
        "plotlyServerURL": "https://plot.ly"
       },
       "data": [
        {
         "hovertemplate": "Experiment=ProxProp 3<br>Epochs=%{x}<br>loss=%{y}<extra></extra>",
         "legendgroup": "ProxProp 3",
         "line": {
          "color": "#636efa",
          "dash": "solid"
         },
         "marker": {
          "symbol": "circle"
         },
         "mode": "lines",
         "name": "ProxProp 3",
         "orientation": "v",
         "showlegend": true,
         "type": "scatter",
         "x": [
          0,
          1,
          2,
          3,
          4,
          5,
          6,
          7,
          8,
          9,
          10
         ],
         "xaxis": "x",
         "y": [
          34.573760986328125,
          2.4204282760620117,
          1.5404918193817139,
          1.3836548328399658,
          1.252394676208496,
          0.9435259103775024,
          0.4497773051261902,
          0.3629741668701172,
          0.32899653911590576,
          0.30433863401412964,
          0.28504669666290283
         ],
         "yaxis": "y"
        },
        {
         "hovertemplate": "Experiment=ProxProp 4<br>Epochs=%{x}<br>loss=%{y}<extra></extra>",
         "legendgroup": "ProxProp 4",
         "line": {
          "color": "#EF553B",
          "dash": "solid"
         },
         "marker": {
          "symbol": "circle"
         },
         "mode": "lines",
         "name": "ProxProp 4",
         "orientation": "v",
         "showlegend": true,
         "type": "scatter",
         "x": [
          0,
          1,
          2,
          3,
          4,
          5,
          6,
          7,
          8,
          9,
          10
         ],
         "xaxis": "x",
         "y": [
          42.33837890625,
          3.156933546066284,
          2.3861024379730225,
          2.340388298034668,
          2.266782283782959,
          2.248255968093872,
          2.217180013656616,
          2.181563138961792,
          2.1598713397979736,
          2.1429972648620605,
          2.1447086334228516
         ],
         "yaxis": "y"
        },
        {
         "hovertemplate": "Experiment=ProxProp 13<br>Epochs=%{x}<br>loss=%{y}<extra></extra>",
         "legendgroup": "ProxProp 13",
         "line": {
          "color": "#00cc96",
          "dash": "solid"
         },
         "marker": {
          "symbol": "circle"
         },
         "mode": "lines",
         "name": "ProxProp 13",
         "orientation": "v",
         "showlegend": true,
         "type": "scatter",
         "x": [
          0,
          1,
          2,
          3,
          4,
          5,
          6,
          7,
          8,
          9,
          10
         ],
         "xaxis": "x",
         "y": [
          27.142864227294922,
          1.8381043672561646,
          1.1046727895736694,
          0.46451544761657715,
          0.3698732256889343,
          0.3209298253059387,
          0.2882804274559021,
          0.26394858956336975,
          0.24476689100265503,
          0.22901904582977295,
          0.21546410024166107
         ],
         "yaxis": "y"
        },
        {
         "hovertemplate": "Experiment=ProxProp 14<br>Epochs=%{x}<br>loss=%{y}<extra></extra>",
         "legendgroup": "ProxProp 14",
         "line": {
          "color": "#ab63fa",
          "dash": "solid"
         },
         "marker": {
          "symbol": "circle"
         },
         "mode": "lines",
         "name": "ProxProp 14",
         "orientation": "v",
         "showlegend": true,
         "type": "scatter",
         "x": [
          0,
          1,
          2,
          3,
          4,
          5,
          6,
          7,
          8,
          9,
          10
         ],
         "xaxis": "x",
         "y": [
          30.408018112182617,
          2.479120969772339,
          2.2694990634918213,
          2.179253578186035,
          2.160564661026001,
          2.2483701705932617,
          2.2442877292633057,
          2.1969566345214844,
          1.5076245069503784,
          1.0400029420852661,
          1.028708577156067
         ],
         "yaxis": "y"
        },
        {
         "hovertemplate": "Experiment=ProxProp eta = 7<br>Epochs=%{x}<br>loss=%{y}<extra></extra>",
         "legendgroup": "ProxProp eta = 7",
         "line": {
          "color": "#FFA15A",
          "dash": "solid"
         },
         "marker": {
          "symbol": "circle"
         },
         "mode": "lines",
         "name": "ProxProp eta = 7",
         "orientation": "v",
         "showlegend": true,
         "type": "scatter",
         "x": [
          0,
          1,
          2,
          3,
          4,
          5,
          6,
          7,
          8,
          9,
          10
         ],
         "xaxis": "x",
         "y": [
          21.775272369384766,
          0.6403989195823669,
          0.3448338508605957,
          0.2831323444843292,
          0.24568158388137817,
          0.2293669879436493,
          0.21612870693206787,
          0.20688575506210327,
          0.19921326637268066,
          0.1939152479171753,
          0.18946023285388947
         ],
         "yaxis": "y"
        }
       ],
       "layout": {
        "legend": {
         "title": {
          "text": "Experiment"
         },
         "tracegroupgap": 0
        },
        "template": {
         "data": {
          "bar": [
           {
            "error_x": {
             "color": "#2a3f5f"
            },
            "error_y": {
             "color": "#2a3f5f"
            },
            "marker": {
             "line": {
              "color": "#E5ECF6",
              "width": 0.5
             },
             "pattern": {
              "fillmode": "overlay",
              "size": 10,
              "solidity": 0.2
             }
            },
            "type": "bar"
           }
          ],
          "barpolar": [
           {
            "marker": {
             "line": {
              "color": "#E5ECF6",
              "width": 0.5
             },
             "pattern": {
              "fillmode": "overlay",
              "size": 10,
              "solidity": 0.2
             }
            },
            "type": "barpolar"
           }
          ],
          "carpet": [
           {
            "aaxis": {
             "endlinecolor": "#2a3f5f",
             "gridcolor": "white",
             "linecolor": "white",
             "minorgridcolor": "white",
             "startlinecolor": "#2a3f5f"
            },
            "baxis": {
             "endlinecolor": "#2a3f5f",
             "gridcolor": "white",
             "linecolor": "white",
             "minorgridcolor": "white",
             "startlinecolor": "#2a3f5f"
            },
            "type": "carpet"
           }
          ],
          "choropleth": [
           {
            "colorbar": {
             "outlinewidth": 0,
             "ticks": ""
            },
            "type": "choropleth"
           }
          ],
          "contour": [
           {
            "colorbar": {
             "outlinewidth": 0,
             "ticks": ""
            },
            "colorscale": [
             [
              0,
              "#0d0887"
             ],
             [
              0.1111111111111111,
              "#46039f"
             ],
             [
              0.2222222222222222,
              "#7201a8"
             ],
             [
              0.3333333333333333,
              "#9c179e"
             ],
             [
              0.4444444444444444,
              "#bd3786"
             ],
             [
              0.5555555555555556,
              "#d8576b"
             ],
             [
              0.6666666666666666,
              "#ed7953"
             ],
             [
              0.7777777777777778,
              "#fb9f3a"
             ],
             [
              0.8888888888888888,
              "#fdca26"
             ],
             [
              1,
              "#f0f921"
             ]
            ],
            "type": "contour"
           }
          ],
          "contourcarpet": [
           {
            "colorbar": {
             "outlinewidth": 0,
             "ticks": ""
            },
            "type": "contourcarpet"
           }
          ],
          "heatmap": [
           {
            "colorbar": {
             "outlinewidth": 0,
             "ticks": ""
            },
            "colorscale": [
             [
              0,
              "#0d0887"
             ],
             [
              0.1111111111111111,
              "#46039f"
             ],
             [
              0.2222222222222222,
              "#7201a8"
             ],
             [
              0.3333333333333333,
              "#9c179e"
             ],
             [
              0.4444444444444444,
              "#bd3786"
             ],
             [
              0.5555555555555556,
              "#d8576b"
             ],
             [
              0.6666666666666666,
              "#ed7953"
             ],
             [
              0.7777777777777778,
              "#fb9f3a"
             ],
             [
              0.8888888888888888,
              "#fdca26"
             ],
             [
              1,
              "#f0f921"
             ]
            ],
            "type": "heatmap"
           }
          ],
          "heatmapgl": [
           {
            "colorbar": {
             "outlinewidth": 0,
             "ticks": ""
            },
            "colorscale": [
             [
              0,
              "#0d0887"
             ],
             [
              0.1111111111111111,
              "#46039f"
             ],
             [
              0.2222222222222222,
              "#7201a8"
             ],
             [
              0.3333333333333333,
              "#9c179e"
             ],
             [
              0.4444444444444444,
              "#bd3786"
             ],
             [
              0.5555555555555556,
              "#d8576b"
             ],
             [
              0.6666666666666666,
              "#ed7953"
             ],
             [
              0.7777777777777778,
              "#fb9f3a"
             ],
             [
              0.8888888888888888,
              "#fdca26"
             ],
             [
              1,
              "#f0f921"
             ]
            ],
            "type": "heatmapgl"
           }
          ],
          "histogram": [
           {
            "marker": {
             "pattern": {
              "fillmode": "overlay",
              "size": 10,
              "solidity": 0.2
             }
            },
            "type": "histogram"
           }
          ],
          "histogram2d": [
           {
            "colorbar": {
             "outlinewidth": 0,
             "ticks": ""
            },
            "colorscale": [
             [
              0,
              "#0d0887"
             ],
             [
              0.1111111111111111,
              "#46039f"
             ],
             [
              0.2222222222222222,
              "#7201a8"
             ],
             [
              0.3333333333333333,
              "#9c179e"
             ],
             [
              0.4444444444444444,
              "#bd3786"
             ],
             [
              0.5555555555555556,
              "#d8576b"
             ],
             [
              0.6666666666666666,
              "#ed7953"
             ],
             [
              0.7777777777777778,
              "#fb9f3a"
             ],
             [
              0.8888888888888888,
              "#fdca26"
             ],
             [
              1,
              "#f0f921"
             ]
            ],
            "type": "histogram2d"
           }
          ],
          "histogram2dcontour": [
           {
            "colorbar": {
             "outlinewidth": 0,
             "ticks": ""
            },
            "colorscale": [
             [
              0,
              "#0d0887"
             ],
             [
              0.1111111111111111,
              "#46039f"
             ],
             [
              0.2222222222222222,
              "#7201a8"
             ],
             [
              0.3333333333333333,
              "#9c179e"
             ],
             [
              0.4444444444444444,
              "#bd3786"
             ],
             [
              0.5555555555555556,
              "#d8576b"
             ],
             [
              0.6666666666666666,
              "#ed7953"
             ],
             [
              0.7777777777777778,
              "#fb9f3a"
             ],
             [
              0.8888888888888888,
              "#fdca26"
             ],
             [
              1,
              "#f0f921"
             ]
            ],
            "type": "histogram2dcontour"
           }
          ],
          "mesh3d": [
           {
            "colorbar": {
             "outlinewidth": 0,
             "ticks": ""
            },
            "type": "mesh3d"
           }
          ],
          "parcoords": [
           {
            "line": {
             "colorbar": {
              "outlinewidth": 0,
              "ticks": ""
             }
            },
            "type": "parcoords"
           }
          ],
          "pie": [
           {
            "automargin": true,
            "type": "pie"
           }
          ],
          "scatter": [
           {
            "fillpattern": {
             "fillmode": "overlay",
             "size": 10,
             "solidity": 0.2
            },
            "type": "scatter"
           }
          ],
          "scatter3d": [
           {
            "line": {
             "colorbar": {
              "outlinewidth": 0,
              "ticks": ""
             }
            },
            "marker": {
             "colorbar": {
              "outlinewidth": 0,
              "ticks": ""
             }
            },
            "type": "scatter3d"
           }
          ],
          "scattercarpet": [
           {
            "marker": {
             "colorbar": {
              "outlinewidth": 0,
              "ticks": ""
             }
            },
            "type": "scattercarpet"
           }
          ],
          "scattergeo": [
           {
            "marker": {
             "colorbar": {
              "outlinewidth": 0,
              "ticks": ""
             }
            },
            "type": "scattergeo"
           }
          ],
          "scattergl": [
           {
            "marker": {
             "colorbar": {
              "outlinewidth": 0,
              "ticks": ""
             }
            },
            "type": "scattergl"
           }
          ],
          "scattermapbox": [
           {
            "marker": {
             "colorbar": {
              "outlinewidth": 0,
              "ticks": ""
             }
            },
            "type": "scattermapbox"
           }
          ],
          "scatterpolar": [
           {
            "marker": {
             "colorbar": {
              "outlinewidth": 0,
              "ticks": ""
             }
            },
            "type": "scatterpolar"
           }
          ],
          "scatterpolargl": [
           {
            "marker": {
             "colorbar": {
              "outlinewidth": 0,
              "ticks": ""
             }
            },
            "type": "scatterpolargl"
           }
          ],
          "scatterternary": [
           {
            "marker": {
             "colorbar": {
              "outlinewidth": 0,
              "ticks": ""
             }
            },
            "type": "scatterternary"
           }
          ],
          "surface": [
           {
            "colorbar": {
             "outlinewidth": 0,
             "ticks": ""
            },
            "colorscale": [
             [
              0,
              "#0d0887"
             ],
             [
              0.1111111111111111,
              "#46039f"
             ],
             [
              0.2222222222222222,
              "#7201a8"
             ],
             [
              0.3333333333333333,
              "#9c179e"
             ],
             [
              0.4444444444444444,
              "#bd3786"
             ],
             [
              0.5555555555555556,
              "#d8576b"
             ],
             [
              0.6666666666666666,
              "#ed7953"
             ],
             [
              0.7777777777777778,
              "#fb9f3a"
             ],
             [
              0.8888888888888888,
              "#fdca26"
             ],
             [
              1,
              "#f0f921"
             ]
            ],
            "type": "surface"
           }
          ],
          "table": [
           {
            "cells": {
             "fill": {
              "color": "#EBF0F8"
             },
             "line": {
              "color": "white"
             }
            },
            "header": {
             "fill": {
              "color": "#C8D4E3"
             },
             "line": {
              "color": "white"
             }
            },
            "type": "table"
           }
          ]
         },
         "layout": {
          "annotationdefaults": {
           "arrowcolor": "#2a3f5f",
           "arrowhead": 0,
           "arrowwidth": 1
          },
          "autotypenumbers": "strict",
          "coloraxis": {
           "colorbar": {
            "outlinewidth": 0,
            "ticks": ""
           }
          },
          "colorscale": {
           "diverging": [
            [
             0,
             "#8e0152"
            ],
            [
             0.1,
             "#c51b7d"
            ],
            [
             0.2,
             "#de77ae"
            ],
            [
             0.3,
             "#f1b6da"
            ],
            [
             0.4,
             "#fde0ef"
            ],
            [
             0.5,
             "#f7f7f7"
            ],
            [
             0.6,
             "#e6f5d0"
            ],
            [
             0.7,
             "#b8e186"
            ],
            [
             0.8,
             "#7fbc41"
            ],
            [
             0.9,
             "#4d9221"
            ],
            [
             1,
             "#276419"
            ]
           ],
           "sequential": [
            [
             0,
             "#0d0887"
            ],
            [
             0.1111111111111111,
             "#46039f"
            ],
            [
             0.2222222222222222,
             "#7201a8"
            ],
            [
             0.3333333333333333,
             "#9c179e"
            ],
            [
             0.4444444444444444,
             "#bd3786"
            ],
            [
             0.5555555555555556,
             "#d8576b"
            ],
            [
             0.6666666666666666,
             "#ed7953"
            ],
            [
             0.7777777777777778,
             "#fb9f3a"
            ],
            [
             0.8888888888888888,
             "#fdca26"
            ],
            [
             1,
             "#f0f921"
            ]
           ],
           "sequentialminus": [
            [
             0,
             "#0d0887"
            ],
            [
             0.1111111111111111,
             "#46039f"
            ],
            [
             0.2222222222222222,
             "#7201a8"
            ],
            [
             0.3333333333333333,
             "#9c179e"
            ],
            [
             0.4444444444444444,
             "#bd3786"
            ],
            [
             0.5555555555555556,
             "#d8576b"
            ],
            [
             0.6666666666666666,
             "#ed7953"
            ],
            [
             0.7777777777777778,
             "#fb9f3a"
            ],
            [
             0.8888888888888888,
             "#fdca26"
            ],
            [
             1,
             "#f0f921"
            ]
           ]
          },
          "colorway": [
           "#636efa",
           "#EF553B",
           "#00cc96",
           "#ab63fa",
           "#FFA15A",
           "#19d3f3",
           "#FF6692",
           "#B6E880",
           "#FF97FF",
           "#FECB52"
          ],
          "font": {
           "color": "#2a3f5f"
          },
          "geo": {
           "bgcolor": "white",
           "lakecolor": "white",
           "landcolor": "#E5ECF6",
           "showlakes": true,
           "showland": true,
           "subunitcolor": "white"
          },
          "hoverlabel": {
           "align": "left"
          },
          "hovermode": "closest",
          "mapbox": {
           "style": "light"
          },
          "paper_bgcolor": "white",
          "plot_bgcolor": "#E5ECF6",
          "polar": {
           "angularaxis": {
            "gridcolor": "white",
            "linecolor": "white",
            "ticks": ""
           },
           "bgcolor": "#E5ECF6",
           "radialaxis": {
            "gridcolor": "white",
            "linecolor": "white",
            "ticks": ""
           }
          },
          "scene": {
           "xaxis": {
            "backgroundcolor": "#E5ECF6",
            "gridcolor": "white",
            "gridwidth": 2,
            "linecolor": "white",
            "showbackground": true,
            "ticks": "",
            "zerolinecolor": "white"
           },
           "yaxis": {
            "backgroundcolor": "#E5ECF6",
            "gridcolor": "white",
            "gridwidth": 2,
            "linecolor": "white",
            "showbackground": true,
            "ticks": "",
            "zerolinecolor": "white"
           },
           "zaxis": {
            "backgroundcolor": "#E5ECF6",
            "gridcolor": "white",
            "gridwidth": 2,
            "linecolor": "white",
            "showbackground": true,
            "ticks": "",
            "zerolinecolor": "white"
           }
          },
          "shapedefaults": {
           "line": {
            "color": "#2a3f5f"
           }
          },
          "ternary": {
           "aaxis": {
            "gridcolor": "white",
            "linecolor": "white",
            "ticks": ""
           },
           "baxis": {
            "gridcolor": "white",
            "linecolor": "white",
            "ticks": ""
           },
           "bgcolor": "#E5ECF6",
           "caxis": {
            "gridcolor": "white",
            "linecolor": "white",
            "ticks": ""
           }
          },
          "title": {
           "x": 0.05
          },
          "xaxis": {
           "automargin": true,
           "gridcolor": "white",
           "linecolor": "white",
           "ticks": "",
           "title": {
            "standoff": 15
           },
           "zerolinecolor": "white",
           "zerolinewidth": 2
          },
          "yaxis": {
           "automargin": true,
           "gridcolor": "white",
           "linecolor": "white",
           "ticks": "",
           "title": {
            "standoff": 15
           },
           "zerolinecolor": "white",
           "zerolinewidth": 2
          }
         }
        },
        "title": {
         "text": "Train loss"
        },
        "xaxis": {
         "anchor": "y",
         "domain": [
          0,
          1
         ],
         "title": {
          "text": "Epochs"
         }
        },
        "yaxis": {
         "anchor": "x",
         "domain": [
          0,
          1
         ],
         "title": {
          "text": "loss"
         }
        }
       }
      }
     },
     "metadata": {},
     "output_type": "display_data"
    }
   ],
   "source": [
    "task_list = Task.get_tasks(\n",
    "    project_name='DNN homework 1 - ProxProp',\n",
    "    tags = ['best 5']\n",
    ")\n",
    "\n",
    "data = dict()\n",
    "dataloss = dict()\n",
    "for task in task_list:\n",
    "    metrics = task.get_reported_scalars()\n",
    "    test_acc = metrics['Accuracy']['ProxyProp Accuracy'][\"y\"]\n",
    "    loss = metrics['Loss']['ProxyProp Loss'][\"y\"]\n",
    "\n",
    "    data[f'{task.name}'] = pd.Series(test_acc, index=np.arange(len(test_acc)))\n",
    "    dataloss[f'{task.name}'] = pd.Series(loss, index=np.arange(len(loss)))\n",
    "\n",
    "fig = px.line(pd.DataFrame(data),\n",
    "              labels={'index': 'Epochs',\n",
    "                      'value': 'Accuracy [%]',\n",
    "                      'variable': 'Experiment'},\n",
    "              title='Test accuracy')\n",
    "fig2 = px.line(pd.DataFrame(dataloss),\n",
    "              labels={'index': 'Epochs',\n",
    "                      'value': 'loss',\n",
    "                      'variable': 'Experiment'},\n",
    "              title='Train loss')\n",
    "\n",
    "fig.show()\n",
    "fig2.show()"
   ]
  },
  {
   "cell_type": "markdown",
   "metadata": {
    "id": "cmQGf9p_6eKw"
   },
   "source": [
    "# Compare memory usage\n",
    "\n",
    "Hint: you can use memory-profiler library [link](https://pypi.org/project/memory-profiler/)"
   ]
  },
  {
   "cell_type": "markdown",
   "metadata": {
    "id": "SE-VQ7iKSz5S"
   },
   "source": [
    "Plot of the memory used in training both of the networks, differences between architectures"
   ]
  },
  {
   "cell_type": "code",
   "execution_count": null,
   "metadata": {
    "id": "0VjPqSEG6gJC"
   },
   "outputs": [
    {
     "data": {
      "image/png": "[encoded data removed]",
      "text/plain": [
       "<Figure size 640x480 with 1 Axes>"
      ]
     },
     "metadata": {},
     "output_type": "display_data"
    }
   ],
   "source": [
    "# ### Your code goes here ###\n",
    "\n",
    "import matplotlib.pyplot as plt\n",
    "X_axis = np.arange(2)\n",
    "\n",
    "num_layers = [\"[784, 100, 100, 10]\", \"[784, 100, 100, 100, 10]\"]\n",
    "# mem-usage[0][0] is for first architecture, mem-usage[7][0] for second because I'm running 7 experiments on each\n",
    "plt.bar(X_axis - 0.2, (memP_usage[0][0], memP_usage[7][0]), width = 0.4, label = \"ProxProp\")\n",
    "plt.bar(X_axis + 0.2, (memB_usage[0][0], memB_usage[7][0]), width = 0.4, label = \"BackProp\")\n",
    "plt.xticks(X_axis, num_layers)\n",
    "plt.xlabel(\"Architecture\")\n",
    "plt.ylabel(\"Memory usage \")\n",
    "plt.title(\"Memory comparison\")\n",
    "plt.legend()\n",
    "plt.show()\n",
    "\n",
    "\n",
    "\n",
    "###########################"
   ]
  },
  {
   "cell_type": "code",
   "execution_count": null,
   "metadata": {},
   "outputs": [],
   "source": [
    "%load_ext memory_profiler"
   ]
  },
  {
   "cell_type": "markdown",
   "metadata": {},
   "source": [
    "More exact measure of memory usage:"
   ]
  },
  {
   "cell_type": "code",
   "execution_count": 42,
   "metadata": {},
   "outputs": [
    {
     "name": "stdout",
     "output_type": "stream",
     "text": [
      "peak memory: 610.09 MiB, increment: 0.00 MiB\n",
      "Epoch: 0, Accuracy: 0.0764, Loss: 17.44714783881463\n",
      "Epoch: 1, Accuracy: 0.8836, Loss: 0.7906261530051606\n",
      "Epoch: 2, Accuracy: 0.9175, Loss: 0.40340309237736616\n",
      "Epoch: 3, Accuracy: 0.9287, Loss: 0.32441118277754677\n"
     ]
    }
   ],
   "source": [
    "%memit \n",
    "network = ProxProp([784, 100, 100, 10])\n",
    "network.SGD(\n",
    "    (x_train, y_train),\n",
    "    epochs=3,\n",
    "    mini_batch_size=100,\n",
    "    eta=3.0,\n",
    "    test_data=(x_test, y_test),\n",
    ")"
   ]
  },
  {
   "cell_type": "code",
   "execution_count": 43,
   "metadata": {},
   "outputs": [
    {
     "name": "stdout",
     "output_type": "stream",
     "text": [
      "peak memory: 614.04 MiB, increment: 0.00 MiB\n",
      "Epoch: 0, Accuracy: 0.5836, Loss: 5.511360761437687\n",
      "Epoch: 1, Accuracy: 0.6868, Loss: 4.174699613837328\n",
      "Epoch: 2, Accuracy: 0.7076, Loss: 3.694690852578777\n"
     ]
    }
   ],
   "source": [
    "%memit \n",
    "network = Network([784, 100, 100, 10])\n",
    "network.SGD(\n",
    "    (x_train, y_train),\n",
    "    epochs=3,\n",
    "    mini_batch_size=100,\n",
    "    eta=3.0,\n",
    "    test_data=(x_test, y_test),\n",
    ")"
   ]
  },
  {
   "cell_type": "markdown",
   "metadata": {},
   "source": [
    "Memory usage for both networks is similar, for ProxProp it's slightly better but the differences are not big. Hence it seems like ProxProp is very good."
   ]
  }
 ],
 "metadata": {
  "colab": {
   "provenance": []
  },
  "kernelspec": {
   "display_name": ".venv",
   "language": "python",
   "name": "python3"
  },
  "language_info": {
   "codemirror_mode": {
    "name": "ipython",
    "version": 3
   },
   "file_extension": ".py",
   "mimetype": "text/x-python",
   "name": "python",
   "nbconvert_exporter": "python",
   "pygments_lexer": "ipython3",
   "version": "3.12.7"
  }
 },
 "nbformat": 4,
 "nbformat_minor": 0
}
